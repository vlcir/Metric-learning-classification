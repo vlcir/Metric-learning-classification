{
 "cells": [
  {
   "cell_type": "code",
   "execution_count": 21,
   "metadata": {},
   "outputs": [
    {
     "data": {
      "text/html": [
       "<div>\n",
       "<style scoped>\n",
       "    .dataframe tbody tr th:only-of-type {\n",
       "        vertical-align: middle;\n",
       "    }\n",
       "\n",
       "    .dataframe tbody tr th {\n",
       "        vertical-align: top;\n",
       "    }\n",
       "\n",
       "    .dataframe thead th {\n",
       "        text-align: right;\n",
       "    }\n",
       "</style>\n",
       "<table border=\"1\" class=\"dataframe\">\n",
       "  <thead>\n",
       "    <tr style=\"text-align: right;\">\n",
       "      <th></th>\n",
       "      <th>label</th>\n",
       "      <th>cam_id</th>\n",
       "      <th>split</th>\n",
       "      <th>is_query</th>\n",
       "      <th>is_gallery</th>\n",
       "      <th>path</th>\n",
       "    </tr>\n",
       "  </thead>\n",
       "  <tbody>\n",
       "    <tr>\n",
       "      <th>0</th>\n",
       "      <td>2</td>\n",
       "      <td>2</td>\n",
       "      <td>validation</td>\n",
       "      <td>True</td>\n",
       "      <td>True</td>\n",
       "      <td>veri776_ds\\0002_c002_00030600_0.jpg</td>\n",
       "    </tr>\n",
       "    <tr>\n",
       "      <th>1</th>\n",
       "      <td>2</td>\n",
       "      <td>3</td>\n",
       "      <td>validation</td>\n",
       "      <td>True</td>\n",
       "      <td>True</td>\n",
       "      <td>veri776_ds\\0002_c003_00084280_0.jpg</td>\n",
       "    </tr>\n",
       "    <tr>\n",
       "      <th>2</th>\n",
       "      <td>2</td>\n",
       "      <td>4</td>\n",
       "      <td>validation</td>\n",
       "      <td>True</td>\n",
       "      <td>True</td>\n",
       "      <td>veri776_ds\\0002_c004_00084250_0.jpg</td>\n",
       "    </tr>\n",
       "    <tr>\n",
       "      <th>3</th>\n",
       "      <td>2</td>\n",
       "      <td>5</td>\n",
       "      <td>validation</td>\n",
       "      <td>True</td>\n",
       "      <td>True</td>\n",
       "      <td>veri776_ds\\0002_c005_00084980_0.jpg</td>\n",
       "    </tr>\n",
       "    <tr>\n",
       "      <th>4</th>\n",
       "      <td>2</td>\n",
       "      <td>6</td>\n",
       "      <td>validation</td>\n",
       "      <td>True</td>\n",
       "      <td>True</td>\n",
       "      <td>veri776_ds\\0002_c006_00083605_0.jpg</td>\n",
       "    </tr>\n",
       "    <tr>\n",
       "      <th>...</th>\n",
       "      <td>...</td>\n",
       "      <td>...</td>\n",
       "      <td>...</td>\n",
       "      <td>...</td>\n",
       "      <td>...</td>\n",
       "      <td>...</td>\n",
       "    </tr>\n",
       "    <tr>\n",
       "      <th>11574</th>\n",
       "      <td>776</td>\n",
       "      <td>7</td>\n",
       "      <td>validation</td>\n",
       "      <td>False</td>\n",
       "      <td>True</td>\n",
       "      <td>veri776_ds\\0776_c007_00000595_0.jpg</td>\n",
       "    </tr>\n",
       "    <tr>\n",
       "      <th>11575</th>\n",
       "      <td>776</td>\n",
       "      <td>7</td>\n",
       "      <td>validation</td>\n",
       "      <td>False</td>\n",
       "      <td>True</td>\n",
       "      <td>veri776_ds\\0776_c007_00000610_0.jpg</td>\n",
       "    </tr>\n",
       "    <tr>\n",
       "      <th>11576</th>\n",
       "      <td>776</td>\n",
       "      <td>7</td>\n",
       "      <td>validation</td>\n",
       "      <td>False</td>\n",
       "      <td>True</td>\n",
       "      <td>veri776_ds\\0776_c007_00000620_0.jpg</td>\n",
       "    </tr>\n",
       "    <tr>\n",
       "      <th>11577</th>\n",
       "      <td>776</td>\n",
       "      <td>7</td>\n",
       "      <td>validation</td>\n",
       "      <td>False</td>\n",
       "      <td>True</td>\n",
       "      <td>veri776_ds\\0776_c007_00000625_0.jpg</td>\n",
       "    </tr>\n",
       "    <tr>\n",
       "      <th>11578</th>\n",
       "      <td>776</td>\n",
       "      <td>7</td>\n",
       "      <td>validation</td>\n",
       "      <td>False</td>\n",
       "      <td>True</td>\n",
       "      <td>veri776_ds\\0776_c007_00000630_0.jpg</td>\n",
       "    </tr>\n",
       "  </tbody>\n",
       "</table>\n",
       "<p>11579 rows × 6 columns</p>\n",
       "</div>"
      ],
      "text/plain": [
       "       label  cam_id       split is_query is_gallery  \\\n",
       "0          2       2  validation     True       True   \n",
       "1          2       3  validation     True       True   \n",
       "2          2       4  validation     True       True   \n",
       "3          2       5  validation     True       True   \n",
       "4          2       6  validation     True       True   \n",
       "...      ...     ...         ...      ...        ...   \n",
       "11574    776       7  validation    False       True   \n",
       "11575    776       7  validation    False       True   \n",
       "11576    776       7  validation    False       True   \n",
       "11577    776       7  validation    False       True   \n",
       "11578    776       7  validation    False       True   \n",
       "\n",
       "                                      path  \n",
       "0      veri776_ds\\0002_c002_00030600_0.jpg  \n",
       "1      veri776_ds\\0002_c003_00084280_0.jpg  \n",
       "2      veri776_ds\\0002_c004_00084250_0.jpg  \n",
       "3      veri776_ds\\0002_c005_00084980_0.jpg  \n",
       "4      veri776_ds\\0002_c006_00083605_0.jpg  \n",
       "...                                    ...  \n",
       "11574  veri776_ds\\0776_c007_00000595_0.jpg  \n",
       "11575  veri776_ds\\0776_c007_00000610_0.jpg  \n",
       "11576  veri776_ds\\0776_c007_00000620_0.jpg  \n",
       "11577  veri776_ds\\0776_c007_00000625_0.jpg  \n",
       "11578  veri776_ds\\0776_c007_00000630_0.jpg  \n",
       "\n",
       "[11579 rows x 6 columns]"
      ]
     },
     "execution_count": 21,
     "metadata": {},
     "output_type": "execute_result"
    }
   ],
   "source": [
    "import pandas as pd\n",
    "\n",
    "df = pd.read_csv(\"./veri776_metadata.csv\") \n",
    "df_train = df[df['split'] == 'train'].reset_index(drop=True)\n",
    "df_val = df[df['split'] == 'validation'].reset_index(drop=True)\n",
    "df_val"
   ]
  },
  {
   "cell_type": "code",
   "execution_count": 22,
   "metadata": {},
   "outputs": [
    {
     "name": "stderr",
     "output_type": "stream",
     "text": [
      "C:\\Users\\pnkdl\\AppData\\Local\\Temp\\ipykernel_11508\\1084257787.py:28: FutureWarning: `torch.cuda.amp.GradScaler(args...)` is deprecated. Please use `torch.amp.GradScaler('cuda', args...)` instead.\n",
      "  scaler = torch.cuda.amp.GradScaler()\n"
     ]
    },
    {
     "name": "stdout",
     "output_type": "stream",
     "text": [
      "Missed viewpoint for  0  images!\n",
      "Missed viewpoint for  0  images!\n",
      "Selected device: cuda\n"
     ]
    },
    {
     "name": "stderr",
     "output_type": "stream",
     "text": [
      "Using cache found in C:\\Users\\pnkdl/.cache\\torch\\hub\\XingangPan_IBN-Net_master\n",
      "Using cache found in C:\\Users\\pnkdl/.cache\\torch\\hub\\XingangPan_IBN-Net_master\n",
      "C:\\Users\\pnkdl\\AppData\\Local\\Temp\\ipykernel_11508\\1084257787.py:50: FutureWarning: You are using `torch.load` with `weights_only=False` (the current default value), which uses the default pickle module implicitly. It is possible to construct malicious pickle data which will execute arbitrary code during unpickling (See https://github.com/pytorch/pytorch/blob/main/SECURITY.md#untrusted-models for more details). In a future release, the default value for `weights_only` will be flipped to `True`. This limits the functions that could be executed during unpickling. Arbitrary objects will no longer be allowed to be loaded via this mode unless they are explicitly allowlisted by the user via `torch.serialization.add_safe_globals`. We recommend you start setting `weights_only=True` for any use case where you don't have full control of the loaded file. Please open an issue on GitHub for any issues related to this experimental feature.\n",
      "  model.load_state_dict(torch.load(path_weights, map_location='cpu'))\n"
     ]
    }
   ],
   "source": [
    "import argparse\n",
    "import torch\n",
    "from torchvision import transforms\n",
    "from torch.utils.data import DataLoader\n",
    "import torch.nn.functional as F\n",
    "from tqdm import tqdm\n",
    "import numpy as np\n",
    "from metrics.eval_reid import *\n",
    "from data.triplet_sampler import *\n",
    "from typing import OrderedDict\n",
    "from processor import get_model\n",
    "import torch.multiprocessing\n",
    "import os\n",
    "import yaml\n",
    "from utils import re_ranking\n",
    "\n",
    "with open(\"./10/config.yaml\", \"r\") as stream:\n",
    "        data = yaml.safe_load(stream)\n",
    "\n",
    "\n",
    "teste_transform = transforms.Compose([\n",
    "                transforms.Resize((data['y_length'],data['x_length']), antialias=True),\n",
    "                transforms.Normalize(data['n_mean'], data['n_std']),\n",
    "\n",
    "])                  \n",
    "\n",
    "if data['half_precision']:\n",
    "    scaler = torch.cuda.amp.GradScaler()\n",
    "else:\n",
    "    scaler=False\n",
    "\n",
    "\n",
    "if data['dataset'] == 'Veri776':\n",
    "    data_q = CustomDataSet4Veri776_withviewpont(data['query_list_file'], data['query_dir'], data['train_keypoint'], data['test_keypoint'], is_train=False, transform=teste_transform)\n",
    "    data_g = CustomDataSet4Veri776_withviewpont(data['gallery_list_file'], data['teste_dir'], data['train_keypoint'], data['test_keypoint'], is_train=False, transform=teste_transform)\n",
    "    data_q = DataLoader(data_q, batch_size=data['BATCH_SIZE'], shuffle=False, num_workers=data['num_workers_teste'])\n",
    "    data_g = DataLoader(data_g, batch_size=data['BATCH_SIZE'], shuffle=False, num_workers=data['num_workers_teste'])\n",
    "\n",
    "\n",
    "# Check if the GPU is available\n",
    "device = torch.device(\"cuda\") if torch.cuda.is_available() else torch.device(\"cpu\")\n",
    "print(f'Selected device: {device}')\n",
    "\n",
    "model = get_model(data, torch.device(\"cpu\"))\n",
    "\n",
    "# One of the saved weights last.pt best_CMC.pt best_mAP.pt\n",
    "path_weights = './10/best_mAP.pt'\n",
    "\n",
    "try:\n",
    "    model.load_state_dict(torch.load(path_weights, map_location='cpu')) \n",
    "except RuntimeError:\n",
    "    ### nn.Parallel adds \"module.\" to the dict names. Although like said nn.Parallel can incur in weird results in some cases \n",
    "    tmp = torch.load(path_weights, map_location='cpu')\n",
    "    tmp = OrderedDict((k.replace(\"module.\", \"\"), v) for k, v in tmp.items())\n",
    "    model.load_state_dict(tmp)\n",
    "\n",
    "\n",
    "model = model.to(device)\n",
    "model.eval()\n",
    "\n",
    "mean = False\n",
    "l2 = True"
   ]
  },
  {
   "cell_type": "code",
   "execution_count": 23,
   "metadata": {},
   "outputs": [],
   "source": [
    "import torch.nn as nn\n",
    "\n",
    "\n",
    "class EmbeddingModel(nn.Module):\n",
    "    def __init__(self, original_model):\n",
    "        super(EmbeddingModel, self).__init__()\n",
    "        self.original_model = original_model\n",
    "    \n",
    "    def forward(self, x):\n",
    "        _, embs, _, _ = self.original_model(x, 0, 0)\n",
    "        # Возвращаем объединенные эмбеддинги из всех ветвей\n",
    "        return torch.cat(embs, dim=1)\n",
    "    \n",
    "\n",
    "embedding_model = EmbeddingModel(model)\n"
   ]
  },
  {
   "cell_type": "code",
   "execution_count": 24,
   "metadata": {},
   "outputs": [],
   "source": [
    "teste_transform = transforms.Compose([\n",
    "    transforms.ToTensor(),\n",
    "                transforms.Resize((data['y_length'],data['x_length']), antialias=True),\n",
    "                transforms.Normalize(data['n_mean'], data['n_std']),\n",
    "\n",
    "])  "
   ]
  },
  {
   "cell_type": "code",
   "execution_count": 25,
   "metadata": {},
   "outputs": [],
   "source": [
    "\n",
    "from oml import datasets as d\n",
    "from oml.inference import inference\n",
    "from oml.metrics import calc_retrieval_metrics_rr\n",
    "from oml.models import ViTExtractor\n",
    "from oml.registry import get_transforms_for_pretrained\n",
    "from oml.retrieval import RetrievalResults\n",
    "\n",
    "\n",
    "\n",
    "first_step = d.ImageLabeledDataset(df_train, transform=teste_transform)\n",
    "accumulation_steps = d.ImageQueryGalleryLabeledDataset(df_val, transform=teste_transform)\n",
    "\n"
   ]
  },
  {
   "cell_type": "code",
   "execution_count": 26,
   "metadata": {},
   "outputs": [],
   "source": [
    "embeddings_first = inference(embedding_model, first_step, batch_size=192, num_workers=0)"
   ]
  },
  {
   "cell_type": "code",
   "execution_count": 27,
   "metadata": {},
   "outputs": [],
   "source": [
    "embeddings_accum = inference(embedding_model, accumulation_steps, batch_size=192, num_workers=0)"
   ]
  },
  {
   "cell_type": "code",
   "execution_count": 28,
   "metadata": {},
   "outputs": [
    {
     "name": "stdout",
     "output_type": "stream",
     "text": [
      "1\n"
     ]
    },
    {
     "name": "stderr",
     "output_type": "stream",
     "text": [
      "CMC@1: 100%|██████████| 1678/1678 [00:00<00:00, 126433.41it/s]\n",
      "Precision@5: 100%|██████████| 1678/1678 [00:00<00:00, 50609.00it/s]\n",
      "MAP@10000: 100%|██████████| 1678/1678 [00:00<00:00, 13420.67it/s]"
     ]
    },
    {
     "name": "stdout",
     "output_type": "stream",
     "text": [
      "{'cmc': {1: tensor(0.9952)}, 'precision': {5: tensor(0.9844)}, 'map': {10000: tensor(0.9956)}}\n"
     ]
    },
    {
     "name": "stderr",
     "output_type": "stream",
     "text": [
      "\n"
     ]
    }
   ],
   "source": [
    "rr = RetrievalResults.from_embeddings(embeddings_accum, accumulation_steps, n_items=5)\n",
    "print(1)\n",
    "# rr = AdaptiveThresholding(n_std=2).process(rr)\n",
    "# print(1)\n",
    "print(calc_retrieval_metrics_rr(rr, map_top_k=(10000,), cmc_top_k=(1,)))"
   ]
  },
  {
   "cell_type": "code",
   "execution_count": 29,
   "metadata": {},
   "outputs": [],
   "source": [
    "labels_first = [x['labels'] for x in first_step]\n",
    "labels_first = np.array(labels_first)"
   ]
  },
  {
   "cell_type": "code",
   "execution_count": 30,
   "metadata": {},
   "outputs": [],
   "source": [
    "labels_accum = [x['labels'] for x in accumulation_steps]\n",
    "labels_accum = np.array(labels_accum)"
   ]
  },
  {
   "cell_type": "code",
   "execution_count": 31,
   "metadata": {},
   "outputs": [],
   "source": [
    "import numpy as np\n",
    "\n",
    "def split_dataset_by_classes(embeddings, labels, n_splits=5):\n",
    "    # 1. Получаем уникальные классы\n",
    "    unique_classes = np.unique(labels)\n",
    "    n_classes = len(unique_classes)\n",
    "\n",
    "    if n_classes < n_splits:\n",
    "        raise ValueError(f\"Недостаточно классов: {n_classes}, требуется минимум {n_splits}\")\n",
    "\n",
    "    # 2. Перемешиваем классы\n",
    "    np.random.shuffle(unique_classes)\n",
    "\n",
    "    # 3. Делим классы на n_splits групп\n",
    "    class_groups = np.array_split(unique_classes, n_splits)\n",
    "\n",
    "    # 4. Создаем список для хранения подчастей\n",
    "    splits = []\n",
    "\n",
    "    for group in class_groups:\n",
    "        mask = np.isin(labels, group)\n",
    "        splits.append((embeddings[mask], labels[mask]))\n",
    "\n",
    "    return splits"
   ]
  },
  {
   "cell_type": "code",
   "execution_count": 32,
   "metadata": {},
   "outputs": [],
   "source": [
    "splitted_steps = split_dataset_by_classes(embeddings_accum, labels_accum)"
   ]
  },
  {
   "cell_type": "code",
   "execution_count": 33,
   "metadata": {},
   "outputs": [
    {
     "name": "stdout",
     "output_type": "stream",
     "text": [
      "Часть 1: 2376 примеров, уникальные классы: [ 42  66  89 101 104 106 118 122 126 130 134 144 196 197 205 247 318 326\n",
      " 357 391 398 402 416 446 461 518 541 546 566 569 576 581 631 660 662 672\n",
      " 685 698 711 775]\n",
      "Часть 2: 2105 примеров, уникальные классы: [  2  61  65  90 102 129 132 135 154 162 179 183 218 295 298 300 319 344\n",
      " 373 388 392 404 418 421 427 485 486 507 515 522 543 554 584 609 622 625\n",
      " 630 642 646 668]\n",
      "Часть 3: 2276 примеров, уникальные классы: [  9  14  27  35  74 110 113 142 145 174 182 231 281 288 294 299 310 315\n",
      " 327 332 417 473 476 480 482 494 510 586 598 602 624 659 687 699 720 727\n",
      " 729 742 773 774]\n",
      "Часть 4: 2389 примеров, уникальные классы: [  5  30  86 108 150 151 166 173 177 180 188 207 241 249 273 306 322 361\n",
      " 365 371 420 450 456 477 545 585 597 606 612 614 652 653 654 663 676 677\n",
      " 761 770 771 776]\n",
      "Часть 5: 2433 примеров, уникальные классы: [  6  38  63  96 105 117 143 172 192 216 219 237 240 262 296 337 368 369\n",
      " 380 385 405 467 489 570 582 588 590 593 610 615 623 634 657 696 712 717\n",
      " 721 753 768 772]\n"
     ]
    }
   ],
   "source": [
    "for i, (X_part, y_part) in enumerate(splitted_steps):\n",
    "    print(f\"Часть {i+1}: {len(X_part)} примеров, уникальные классы: {np.unique(y_part)}\")"
   ]
  },
  {
   "cell_type": "code",
   "execution_count": 14,
   "metadata": {},
   "outputs": [],
   "source": [
    "parts = []\n",
    "# parts = [{\"embeddings\": embeddings_first, \"labels\": labels_first}]\n",
    "for i, (X_part, y_part) in enumerate(splitted_steps):\n",
    "    parts.append({\"embeddings\": X_part, \"labels\": y_part})"
   ]
  },
  {
   "cell_type": "code",
   "execution_count": 15,
   "metadata": {},
   "outputs": [],
   "source": [
    "from sklearn.model_selection import train_test_split\n",
    "import numpy as np\n",
    "\n",
    "# parts = [part1, part2, ..., part6]\n",
    "# part = {\"embeddings\": embeddings_part, \"labels\": labels_part}\n",
    "\n",
    "# Разделим каждую часть на train и val\n",
    "train_val_parts = []\n",
    "\n",
    "for part in parts:\n",
    "    X_train, X_val, y_train, y_val = train_test_split(\n",
    "        part[\"embeddings\"], \n",
    "        part[\"labels\"], \n",
    "        test_size=0.9,\n",
    "        stratify=part[\"labels\"],\n",
    "        random_state=42\n",
    "    )\n",
    "    train_val_parts.append({\n",
    "        \"X_train\": X_train,\n",
    "        \"y_train\": y_train,\n",
    "        \"X_val\": X_val,\n",
    "        \"y_val\": y_val\n",
    "    })"
   ]
  },
  {
   "cell_type": "code",
   "execution_count": 34,
   "metadata": {},
   "outputs": [
    {
     "name": "stdout",
     "output_type": "stream",
     "text": [
      "\n",
      "Этап 1\n",
      "Accuracy на новых классах: 0.9593023255813954\n",
      "Accuracy на старых классах (первый этап): None\n",
      "Среднее время инференса на 1 элемент: 0.0049479489994701 сек\n",
      "\n",
      "Этап 2\n",
      "Accuracy на новых классах: 0.9881129271916791\n",
      "Accuracy на старых классах (первый этап): 0.9881129271916791\n",
      "Среднее время инференса на 1 элемент: 0.006416434000711888 сек\n",
      "\n",
      "Этап 3\n",
      "Accuracy на новых классах: 0.988905698436712\n",
      "Accuracy на старых классах (первый этап): 0.0\n",
      "Среднее время инференса на 1 элемент: 0.006634920000797137 сек\n",
      "\n",
      "Этап 4\n",
      "Accuracy на новых классах: 0.9782135076252724\n",
      "Accuracy на старых классах (первый этап): 0.0\n",
      "Среднее время инференса на 1 элемент: 0.007842653000261634 сек\n",
      "\n",
      "Этап 5\n",
      "Accuracy на новых классах: 0.9723286504895701\n",
      "Accuracy на старых классах (первый этап): 0.0\n",
      "Среднее время инференса на 1 элемент: 0.011852355999872088 сек\n"
     ]
    }
   ],
   "source": [
    "import torch\n",
    "import torch.nn as nn\n",
    "import torch.optim as optim\n",
    "from sklearn.metrics import accuracy_score\n",
    "import numpy as np\n",
    "\n",
    "# Гиперпараметры\n",
    "embedding_dim = 4096  # Размерность эмбеддингов\n",
    "learning_rate = 0.01\n",
    "epochs = 100\n",
    "\n",
    "# Сохраняем валидационные данные первой части\n",
    "first_val_data = {\n",
    "    \"X\": train_val_parts[1][\"X_val\"],\n",
    "    \"y\": train_val_parts[1][\"y_val\"]\n",
    "}\n",
    "\n",
    "# Хранилище метрик\n",
    "metrics_history = []\n",
    "\n",
    "# Глобальный маппинг классов -> индекс в модели\n",
    "class_to_idx = {}\n",
    "known_classes = set()\n",
    "\n",
    "# Инициализация модели\n",
    "class CustomLogisticRegression(nn.Module):\n",
    "    def __init__(self, num_classes):\n",
    "        super().__init__()\n",
    "        self.linear = nn.Linear(embedding_dim, num_classes, bias=True)\n",
    "        # Инициализация весов\n",
    "        nn.init.xavier_normal_(self.linear.weight)\n",
    "        nn.init.zeros_(self.linear.bias)\n",
    "\n",
    "    def forward(self, x):\n",
    "        return self.linear(x)\n",
    "\n",
    "# Инициализация модели\n",
    "model = None\n",
    "optimizer = None\n",
    "# Поэтапное обучение\n",
    "for i, part in enumerate(train_val_parts):\n",
    "    print(f\"\\nЭтап {i+1}\")\n",
    "    \n",
    "    # Получаем уникальные классы текущей части\n",
    "    current_classes = np.unique(part[\"y_train\"])\n",
    "    \n",
    "    # Добавляем новые классы в глобальный маппинг\n",
    "    for cls in current_classes:\n",
    "        if cls not in class_to_idx:\n",
    "            class_to_idx[cls] = len(class_to_idx)\n",
    "    known_classes.update(current_classes)\n",
    "    \n",
    "    # Обновляем модель, если это не первый этап или есть новые классы\n",
    "    if model is None:\n",
    "        # Первый этап: инициализируем модель с текущими классами\n",
    "        model = CustomLogisticRegression(len(class_to_idx))\n",
    "    else:\n",
    "        # Расширяем модель, если появились новые классы\n",
    "        old_num_classes = model.linear.out_features\n",
    "        new_num_classes = len(class_to_idx)\n",
    "        \n",
    "        if new_num_classes > old_num_classes:\n",
    "            # new_linear = nn.Linear(embedding_dim, new_num_classes, bias=True)\n",
    "            # with torch.no_grad():\n",
    "            #     # Копируем старые веса\n",
    "            #     new_linear.weight[:old_num_classes] = model.linear.weight\n",
    "            #     new_linear.bias[:old_num_classes] = model.linear.bias\n",
    "            #     # Инициализируем новые веса\n",
    "            #     nn.init.xavier_normal_(new_linear.weight[old_num_classes:])\n",
    "            #     nn.init.zeros_(new_linear.bias[old_num_classes:])\n",
    "\n",
    "\n",
    "            new_linear = nn.Linear(embedding_dim, new_num_classes, bias=True)\n",
    "            with torch.no_grad():\n",
    "                # Копируем старые веса как detached тензоры\n",
    "                new_linear.weight[:old_num_classes] = model.linear.weight.detach().clone()\n",
    "                new_linear.bias[:old_num_classes] = model.linear.bias.detach().clone()\n",
    "                # Инициализируем новые веса\n",
    "                nn.init.xavier_normal_(new_linear.weight[old_num_classes:])\n",
    "                nn.init.zeros_(new_linear.bias[old_num_classes:])\n",
    "            \n",
    "            # Замораживаем старые веса\n",
    "            model.linear = new_linear\n",
    "            model.linear.weight.requires_grad = True\n",
    "            model.linear.bias.requires_grad = True\n",
    "\n",
    "    optimizer = optim.AdamW(model.parameters(), lr=learning_rate)\n",
    "\n",
    "    # Перекодируем метки в новые индексы\n",
    "    y_train_mapped = torch.tensor([class_to_idx[cls] for cls in part[\"y_train\"]], dtype=torch.long)\n",
    "    y_val_mapped = torch.tensor([class_to_idx[cls] for cls in part[\"y_val\"]], dtype=torch.long)\n",
    "    \n",
    "    # Обучение на текущих данных\n",
    "    criterion = nn.CrossEntropyLoss()\n",
    "    model.train()\n",
    "    for epoch in range(epochs):\n",
    "        optimizer.zero_grad()\n",
    "        outputs = model(part[\"X_train\"])\n",
    "        loss = criterion(outputs, y_train_mapped)\n",
    "        loss.backward()\n",
    "\n",
    "        if i > 0:  # Начиная со второго этапа\n",
    "            with torch.no_grad():\n",
    "                model.linear.weight.grad[:old_num_classes].zero_()\n",
    "                model.linear.bias.grad[:old_num_classes].zero_()\n",
    "\n",
    "            \n",
    "        optimizer.step()\n",
    "    \n",
    "    # Оценка на новых данных\n",
    "    model.eval()\n",
    "    with torch.no_grad():\n",
    "        new_preds = model(part[\"X_val\"]).argmax(dim=1)\n",
    "        new_acc = accuracy_score(y_val_mapped, new_preds)\n",
    "        \n",
    "\n",
    "        old_acc = None\n",
    "        if i >= 1:\n",
    "            # Оценка на старых данных (первая часть)\n",
    "            old_preds = model(first_val_data[\"X\"]).argmax(dim=1)\n",
    "            old_y_mapped = torch.tensor([class_to_idx[cls] for cls in first_val_data[\"y\"]], dtype=torch.long)\n",
    "            old_acc = accuracy_score(old_y_mapped, old_preds)\n",
    "        \n",
    "        # --- Измерение времени инференса на одном элементе ---\n",
    "        inference_time = 0.0\n",
    "        if True:\n",
    "\n",
    "            # Замеряем время\n",
    "            start_time = time.perf_counter()\n",
    "            for _ in range(100):\n",
    "                _pr = model(part[\"X_val\"]).argmax(dim=1)\n",
    "            end_time = time.perf_counter()\n",
    "\n",
    "            # Среднее время на один элемент\n",
    "            avg_inference_time = (end_time - start_time) / 100\n",
    "\n",
    "            inference_time = avg_inference_time\n",
    "\n",
    "        # --- Конец измерения времени ---\n",
    "\n",
    "    # Сохраняем метрики\n",
    "    metrics_history.append({\n",
    "        \"new\": new_acc,\n",
    "        \"old\": old_acc,\n",
    "        \"inference_time\": inference_time  # в секундах\n",
    "    })\n",
    "\n",
    "    print(f\"Accuracy на новых классах: {new_acc}\")\n",
    "    print(f\"Accuracy на старых классах (первый этап): {old_acc}\")\n",
    "    print(f\"Среднее время инференса на 1 элемент: {inference_time} сек\")"
   ]
  },
  {
   "cell_type": "code",
   "execution_count": 35,
   "metadata": {},
   "outputs": [
    {
     "data": {
      "image/png": "[encoded data removed]",
      "text/plain": [
       "<Figure size 1000x600 with 1 Axes>"
      ]
     },
     "metadata": {},
     "output_type": "display_data"
    }
   ],
   "source": [
    "import matplotlib.pyplot as plt\n",
    "\n",
    "# Список этапов\n",
    "epochs = range(0, len(metrics_history))\n",
    "\n",
    "# Списки точности для новых и старых классов\n",
    "accuracy_new = [data['new'] for data in metrics_history]\n",
    "accuracy_old = [data['old'] for data in metrics_history]\n",
    "\n",
    "plt.figure(figsize=(10, 6))\n",
    "\n",
    "# Построение графика точности для новых классов\n",
    "plt.plot(epochs, accuracy_new, label='Accuracy на новых классах', marker='o', linestyle='-', color='blue')\n",
    "\n",
    "# Построение графика точности для старых классов\n",
    "plt.plot(epochs, accuracy_old, label='Accuracy на старых классах', marker='s', linestyle='--', color='red')\n",
    "\n",
    "# Настройка осей и заголовка\n",
    "plt.title('LogReg с дообучением только на новых данных')\n",
    "plt.xlabel('Этап обучения')\n",
    "plt.ylabel('Точность (Accuracy)')\n",
    "plt.xticks(epochs)\n",
    "plt.legend()\n",
    "plt.grid(True)\n",
    "\n",
    "# Отображение графика\n",
    "plt.show()"
   ]
  },
  {
   "cell_type": "code",
   "execution_count": 18,
   "metadata": {},
   "outputs": [
    {
     "name": "stdout",
     "output_type": "stream",
     "text": [
      "\n",
      "Этап 1\n",
      "Accuracy на новых классах: 0.9762969588550984\n",
      "Accuracy на старых классах (первый этап): None\n",
      "Среднее время инференса на 1 элемент: 0.0005243699997663498 сек\n",
      "\n",
      "Этап 2\n",
      "Accuracy на новых классах: 0.979692917285785\n",
      "Accuracy на старых классах (первый этап): 0.979692917285785\n",
      "Среднее время инференса на 1 элемент: 0.0007279000012204051 сек\n",
      "\n",
      "Этап 3\n",
      "Accuracy на новых классах: 0.9803328290468987\n",
      "Accuracy на старых классах (первый этап): 0.9524517087667161\n",
      "Среднее время инференса на 1 элемент: 0.0008969699963927269 сек\n",
      "\n",
      "Этап 4\n",
      "Accuracy на новых классах: 0.9754901960784313\n",
      "Accuracy на старых классах (первый этап): 0.9455175829618623\n",
      "Среднее время инференса на 1 элемент: 0.0012046999996528029 сек\n",
      "\n",
      "Этап 5\n",
      "Accuracy на новых классах: 0.9616858237547893\n",
      "Accuracy на старых классах (первый этап): 0.912332838038633\n",
      "Среднее время инференса на 1 элемент: 0.0009621899924241006 сек\n"
     ]
    }
   ],
   "source": [
    "import torch\n",
    "import torch.nn as nn\n",
    "import torch.optim as optim\n",
    "from sklearn.metrics import accuracy_score\n",
    "import numpy as np\n",
    "\n",
    "# Гиперпараметры\n",
    "embedding_dim = 4096  # Размерность эмбеддингов\n",
    "learning_rate = 0.01\n",
    "epochs = 2000\n",
    "\n",
    "# Сохраняем валидационные данные первой части\n",
    "first_val_data = {\n",
    "    \"X\": train_val_parts[1][\"X_val\"],\n",
    "    \"y\": train_val_parts[1][\"y_val\"]\n",
    "}\n",
    "\n",
    "replay_buffer = {\n",
    "    \"X_train\": [],\n",
    "    \"y_train\": []\n",
    "}\n",
    "\n",
    "# Хранилище метрик\n",
    "metrics_history = []\n",
    "\n",
    "# Глобальный маппинг классов -> индекс в модели\n",
    "class_to_idx = {}\n",
    "known_classes = set()\n",
    "\n",
    "# Инициализация модели\n",
    "class CustomLogisticRegression(nn.Module):\n",
    "    def __init__(self, num_classes):\n",
    "        super().__init__()\n",
    "        self.linear = nn.Linear(embedding_dim, num_classes, bias=True)\n",
    "        # Инициализация весов\n",
    "        nn.init.xavier_normal_(self.linear.weight)\n",
    "        nn.init.zeros_(self.linear.bias)\n",
    "\n",
    "    def forward(self, x):\n",
    "        return self.linear(x)\n",
    "\n",
    "# Инициализация модели\n",
    "model = None\n",
    "optimizer = None\n",
    "\n",
    "# Поэтапное обучение\n",
    "for i, part in enumerate(train_val_parts):\n",
    "    print(f\"\\nЭтап {i+1}\")\n",
    "    \n",
    "    # Получаем уникальные классы текущей части\n",
    "    current_classes = np.unique(part[\"y_train\"])\n",
    "    \n",
    "    # Добавляем новые классы в глобальный маппинг\n",
    "    for cls in current_classes:\n",
    "        if cls not in class_to_idx:\n",
    "            class_to_idx[cls] = len(class_to_idx)\n",
    "    known_classes.update(current_classes)\n",
    "    \n",
    "    # Обновляем модель, если это не первый этап или есть новые классы\n",
    "    if model is None:\n",
    "        # Первый этап: инициализируем модель с текущими классами\n",
    "        model = CustomLogisticRegression(len(class_to_idx))\n",
    "    else:\n",
    "        # Расширяем модель, если появились новые классы\n",
    "        old_num_classes = model.linear.out_features\n",
    "        new_num_classes = len(class_to_idx)\n",
    "        \n",
    "        if new_num_classes > old_num_classes:\n",
    "            new_linear = nn.Linear(embedding_dim, new_num_classes, bias=True)\n",
    "            with torch.no_grad():\n",
    "                # Копируем старые веса\n",
    "                new_linear.weight[:old_num_classes] = model.linear.weight.detach().clone()\n",
    "                new_linear.bias[:old_num_classes] = model.linear.bias.detach().clone()\n",
    "                # Инициализируем новые веса\n",
    "                nn.init.xavier_normal_(new_linear.weight[old_num_classes:])\n",
    "                nn.init.zeros_(new_linear.bias[old_num_classes:])\n",
    "            \n",
    "            # Замораживаем старые веса\n",
    "            model.linear = new_linear\n",
    "            model.linear.weight.requires_grad = True\n",
    "            model.linear.bias.requires_grad = True\n",
    "\n",
    "    optimizer = optim.AdamW(model.parameters(), lr=learning_rate)\n",
    "\n",
    "    # Формируем объединенные данные для обучения\n",
    "    if i == 0:\n",
    "        # Только текущие данные для первого этапа\n",
    "        X_combined = part[\"X_train\"]\n",
    "        # Перекодируем метки текущего этапа\n",
    "        y_combined = torch.tensor([class_to_idx[cls] for cls in part[\"y_train\"]], dtype=torch.long)\n",
    "    else:\n",
    "        # Объединить текущие данные и данные из реплей-буфера\n",
    "        X_combined = torch.cat([part[\"X_train\"]] + replay_buffer[\"X_train\"])\n",
    "        \n",
    "        # Собрать все оригинальные метки из текущего этапа и реплей-буфера\n",
    "        all_y = part[\"y_train\"].tolist()\n",
    "        for y_batch in replay_buffer[\"y_train\"]:\n",
    "            all_y.extend(y_batch.tolist())\n",
    "        \n",
    "        # Перекодировать в текущие индексы\n",
    "        y_combined = torch.tensor([class_to_idx[cls] for cls in all_y], dtype=torch.long)\n",
    "    \n",
    "    # Обучение на новых данных\n",
    "    criterion = nn.CrossEntropyLoss()\n",
    "    model.train()\n",
    "    for epoch in range(epochs):\n",
    "        optimizer.zero_grad()\n",
    "        outputs = model(X_combined)\n",
    "        loss = criterion(outputs, y_combined)\n",
    "        loss.backward()\n",
    "        optimizer.step()\n",
    "    \n",
    "    # Оценка на новых данных\n",
    "    model.eval()\n",
    "    with torch.no_grad():\n",
    "        new_preds = model(part[\"X_val\"]).argmax(dim=1)\n",
    "        y_val_mapped = torch.tensor([class_to_idx[cls] for cls in part[\"y_val\"]], dtype=torch.long)\n",
    "        new_acc = accuracy_score(y_val_mapped, new_preds)\n",
    "        \n",
    "\n",
    "        old_acc = None\n",
    "        if i >= 1:\n",
    "            # Оценка на старых данных (первая часть)\n",
    "            old_preds = model(first_val_data[\"X\"]).argmax(dim=1)\n",
    "            old_y_mapped = torch.tensor([class_to_idx[cls] for cls in first_val_data[\"y\"]], dtype=torch.long)\n",
    "            old_acc = accuracy_score(old_y_mapped, old_preds)\n",
    "        \n",
    "        # --- Измерение времени инференса на одном элементе ---\n",
    "        inference_time = 0.0\n",
    "        if True:\n",
    "\n",
    "            # Замеряем время\n",
    "            start_time = time.perf_counter()\n",
    "            for _ in range(10):\n",
    "                _pr = model(train_val_parts[0]['X_train']).argmax(dim=1)\n",
    "            end_time = time.perf_counter()\n",
    "\n",
    "            # Среднее время на один элемент\n",
    "            avg_inference_time = (end_time - start_time) / 10\n",
    "\n",
    "            inference_time = avg_inference_time \n",
    "\n",
    "        # --- Конец измерения времени ---\n",
    "\n",
    "    # Сохраняем метрики\n",
    "    metrics_history.append({\n",
    "        \"new\": new_acc,\n",
    "        \"old\": old_acc,\n",
    "        \"inference_time\": inference_time  # в секундах\n",
    "    })\n",
    "    \n",
    "    print(f\"Accuracy на новых классах: {new_acc}\")\n",
    "    print(f\"Accuracy на старых классах (первый этап): {old_acc}\")\n",
    "    print(f\"Среднее время инференса на 1 элемент: {inference_time} сек\")\n",
    "    \n",
    "    # Добавляем текущие данные в реплей-буфер\n",
    "    if isinstance(part[\"X_train\"], np.ndarray):\n",
    "        X_tensor = torch.from_numpy(part[\"X_train\"].copy())\n",
    "    else:\n",
    "        X_tensor = part[\"X_train\"].clone()\n",
    "\n",
    "    if isinstance(part[\"y_train\"], np.ndarray):\n",
    "        y_tensor = torch.from_numpy(part[\"y_train\"].copy())\n",
    "    else:\n",
    "        y_tensor = part[\"y_train\"].clone()\n",
    "\n",
    "    replay_buffer[\"X_train\"].append(X_tensor)\n",
    "    replay_buffer[\"y_train\"].append(y_tensor)"
   ]
  },
  {
   "cell_type": "code",
   "execution_count": 42,
   "metadata": {},
   "outputs": [
    {
     "name": "stdout",
     "output_type": "stream",
     "text": [
      "Используется устройство: cuda\n",
      "\n",
      "Этап 1\n",
      "Accuracy на новых классах: 0.0684257602862254\n",
      "Accuracy на старых классах (первый этап): None\n",
      "Среднее время инференса на 1 элемент: 0.0011810200056061148 сек\n",
      "\n",
      "Этап 2\n"
     ]
    },
    {
     "ename": "ValueError",
     "evalue": "only one element tensors can be converted to Python scalars",
     "output_type": "error",
     "traceback": [
      "\u001b[1;31m---------------------------------------------------------------------------\u001b[0m",
      "\u001b[1;31mValueError\u001b[0m                                Traceback (most recent call last)",
      "Cell \u001b[1;32mIn[42], line 102\u001b[0m\n\u001b[0;32m    100\u001b[0m     y_combined \u001b[38;5;241m=\u001b[39m torch\u001b[38;5;241m.\u001b[39mtensor([class_to_idx[\u001b[38;5;28mcls\u001b[39m] \u001b[38;5;28;01mfor\u001b[39;00m \u001b[38;5;28mcls\u001b[39m \u001b[38;5;129;01min\u001b[39;00m part[\u001b[38;5;124m\"\u001b[39m\u001b[38;5;124my_train\u001b[39m\u001b[38;5;124m\"\u001b[39m]], dtype\u001b[38;5;241m=\u001b[39mtorch\u001b[38;5;241m.\u001b[39mlong)\u001b[38;5;241m.\u001b[39mto(device)\n\u001b[0;32m    101\u001b[0m \u001b[38;5;28;01melse\u001b[39;00m:\n\u001b[1;32m--> 102\u001b[0m     X_combined \u001b[38;5;241m=\u001b[39m torch\u001b[38;5;241m.\u001b[39mcat([part[\u001b[38;5;124m\"\u001b[39m\u001b[38;5;124mX_train\u001b[39m\u001b[38;5;124m\"\u001b[39m]\u001b[38;5;241m.\u001b[39mto(device)] \u001b[38;5;241m+\u001b[39m \u001b[43mtorch\u001b[49m\u001b[38;5;241;43m.\u001b[39;49m\u001b[43mtensor\u001b[49m\u001b[43m(\u001b[49m\u001b[43mreplay_buffer\u001b[49m\u001b[43m[\u001b[49m\u001b[38;5;124;43m\"\u001b[39;49m\u001b[38;5;124;43mX_train\u001b[39;49m\u001b[38;5;124;43m\"\u001b[39;49m\u001b[43m]\u001b[49m\u001b[43m)\u001b[49m\u001b[38;5;241m.\u001b[39mto(device))\n\u001b[0;32m    104\u001b[0m     all_y \u001b[38;5;241m=\u001b[39m part[\u001b[38;5;124m\"\u001b[39m\u001b[38;5;124my_train\u001b[39m\u001b[38;5;124m\"\u001b[39m]\u001b[38;5;241m.\u001b[39mtolist()\n\u001b[0;32m    105\u001b[0m     \u001b[38;5;28;01mfor\u001b[39;00m y_batch \u001b[38;5;129;01min\u001b[39;00m replay_buffer[\u001b[38;5;124m\"\u001b[39m\u001b[38;5;124my_train\u001b[39m\u001b[38;5;124m\"\u001b[39m]:\n",
      "\u001b[1;31mValueError\u001b[0m: only one element tensors can be converted to Python scalars"
     ]
    }
   ],
   "source": [
    "import torch\n",
    "import torch.nn as nn\n",
    "import torch.optim as optim\n",
    "from sklearn.metrics import accuracy_score\n",
    "import numpy as np\n",
    "import time\n",
    "\n",
    "# Проверка доступности GPU\n",
    "device = torch.device(\"cuda\" if torch.cuda.is_available() else \"cpu\")\n",
    "print(f\"Используется устройство: {device}\")  # [[8]]\n",
    "\n",
    "# Гиперпараметры\n",
    "embedding_dim = 4096\n",
    "learning_rate = 0.01\n",
    "epochs = 20\n",
    "\n",
    "# Сохраняем валидационные данные первой части\n",
    "first_val_data = {\n",
    "    \"X\": train_val_parts[1][\"X_val\"].to(device),  # Перемещение на GPU\n",
    "    \"y\": train_val_parts[1][\"y_val\"]\n",
    "}\n",
    "\n",
    "replay_buffer = {\n",
    "    \"X_train\": [],\n",
    "    \"y_train\": []\n",
    "}\n",
    "\n",
    "# Хранилище метрик\n",
    "metrics_history = []\n",
    "\n",
    "# Глобальный маппинг классов -> индекс в модели\n",
    "class_to_idx = {}\n",
    "known_classes = set()\n",
    "\n",
    "# Определение новой модели с 3 скрытыми слоями\n",
    "class CustomMLP(nn.Module):\n",
    "    def __init__(self, num_classes):\n",
    "        super().__init__()\n",
    "        self.hidden_layers = nn.Sequential(\n",
    "            nn.Linear(embedding_dim, 2048),  # Первый скрытый слой\n",
    "            nn.ReLU(),\n",
    "            nn.Linear(2048, 1024),          # Второй скрытый слой\n",
    "            nn.ReLU(),\n",
    "            nn.Linear(1024, 512),           # Третий скрытый слой\n",
    "            nn.ReLU()\n",
    "        )\n",
    "        self.classifier = nn.Linear(512, num_classes)  # Выходной слой\n",
    "\n",
    "        # Инициализация весов\n",
    "        for layer in self.hidden_layers:\n",
    "            if isinstance(layer, nn.Linear):\n",
    "                nn.init.xavier_normal_(layer.weight)\n",
    "                nn.init.zeros_(layer.bias)\n",
    "        nn.init.xavier_normal_(self.classifier.weight)\n",
    "        nn.init.zeros_(self.classifier.bias)\n",
    "\n",
    "    def forward(self, x):\n",
    "        x = self.hidden_layers(x)\n",
    "        return self.classifier(x)\n",
    "\n",
    "# Инициализация модели\n",
    "model = None\n",
    "optimizer = None\n",
    "\n",
    "# Поэтапное обучение\n",
    "for i, part in enumerate(train_val_parts):\n",
    "    print(f\"\\nЭтап {i+1}\")\n",
    "    \n",
    "    # Получаем уникальные классы текущей части\n",
    "    current_classes = np.unique(part[\"y_train\"])\n",
    "    \n",
    "    # Добавляем новые классы в глобальный маппинг\n",
    "    for cls in current_classes:\n",
    "        if cls not in class_to_idx:\n",
    "            class_to_idx[cls] = len(class_to_idx)\n",
    "    known_classes.update(current_classes)\n",
    "    \n",
    "    # Обновляем модель\n",
    "    if model is None:\n",
    "        model = CustomMLP(len(class_to_idx)).to(device)  # Перемещение на GPU\n",
    "    else:\n",
    "        old_num_classes = model.classifier.out_features\n",
    "        new_num_classes = len(class_to_idx)\n",
    "        \n",
    "        if new_num_classes > old_num_classes:\n",
    "            new_classifier = nn.Linear(512, new_num_classes, bias=True).to(device)\n",
    "            with torch.no_grad():\n",
    "                new_classifier.weight[:old_num_classes] = model.classifier.weight.detach().clone()\n",
    "                new_classifier.bias[:old_num_classes] = model.classifier.bias.detach().clone()\n",
    "                nn.init.xavier_normal_(new_classifier.weight[old_num_classes:])\n",
    "                nn.init.zeros_(new_classifier.bias[old_num_classes:])\n",
    "            \n",
    "            model.classifier = new_classifier\n",
    "\n",
    "    optimizer = optim.AdamW(model.parameters(), lr=learning_rate)\n",
    "\n",
    "    # Формируем объединенные данные для обучения\n",
    "    if i == 0:\n",
    "        X_combined = part[\"X_train\"].to(device)\n",
    "        y_combined = torch.tensor([class_to_idx[cls] for cls in part[\"y_train\"]], dtype=torch.long).to(device)\n",
    "    else:\n",
    "        X_combined = torch.cat([part[\"X_train\"].to(device)] + torch.tensor(replay_buffer[\"X_train\"]).to(device))\n",
    "        \n",
    "        all_y = part[\"y_train\"].tolist()\n",
    "        for y_batch in replay_buffer[\"y_train\"]:\n",
    "            all_y.extend(y_batch.tolist())\n",
    "        \n",
    "        y_combined = torch.tensor([class_to_idx[cls] for cls in all_y], dtype=torch.long).to(device)\n",
    "    \n",
    "    # Обучение на новых данных\n",
    "    criterion = nn.CrossEntropyLoss()\n",
    "    model.train()\n",
    "    for epoch in range(epochs):\n",
    "        optimizer.zero_grad()\n",
    "        outputs = model(X_combined)\n",
    "        loss = criterion(outputs, y_combined)\n",
    "        loss.backward()\n",
    "        optimizer.step()\n",
    "    \n",
    "    # Оценка на новых данных\n",
    "    model.eval()\n",
    "    with torch.no_grad():\n",
    "        new_preds = model(part[\"X_val\"].to(device)).argmax(dim=1).cpu().numpy()\n",
    "        y_val_mapped = torch.tensor([class_to_idx[cls] for cls in part[\"y_val\"]], dtype=torch.long).to(device)\n",
    "        new_acc = accuracy_score(y_val_mapped.cpu().numpy(), new_preds)\n",
    "        \n",
    "        old_acc = None\n",
    "        if i >= 1:\n",
    "            old_preds = model(first_val_data[\"X\"]).argmax(dim=1).cpu().numpy()\n",
    "            old_y_mapped = torch.tensor([class_to_idx[cls] for cls in first_val_data[\"y\"]], dtype=torch.long).to(device)\n",
    "            old_acc = accuracy_score(old_y_mapped.cpu().numpy(), old_preds)\n",
    "        \n",
    "        # Измерение времени инференса\n",
    "        start_time = time.perf_counter()\n",
    "        for _ in range(10):\n",
    "            _ = model(train_val_parts[0]['X_train'].to(device)).argmax(dim=1)\n",
    "        end_time = time.perf_counter()\n",
    "        avg_inference_time = (end_time - start_time) / 10\n",
    "\n",
    "    # Сохраняем метрики\n",
    "    metrics_history.append({\n",
    "        \"new\": new_acc,\n",
    "        \"old\": old_acc,\n",
    "        \"inference_time\": avg_inference_time\n",
    "    })\n",
    "    \n",
    "    print(f\"Accuracy на новых классах: {new_acc}\")\n",
    "    print(f\"Accuracy на старых классах (первый этап): {old_acc}\")\n",
    "    print(f\"Среднее время инференса на 1 элемент: {avg_inference_time} сек\")\n",
    "    \n",
    "     # Добавляем текущие данные в реплей-буфер\n",
    "    if isinstance(part[\"X_train\"], np.ndarray):\n",
    "        X_tensor = torch.from_numpy(part[\"X_train\"].copy())\n",
    "    else:\n",
    "        X_tensor = part[\"X_train\"].clone()\n",
    "\n",
    "    if isinstance(part[\"y_train\"], np.ndarray):\n",
    "        y_tensor = torch.from_numpy(part[\"y_train\"].copy())\n",
    "    else:\n",
    "        y_tensor = part[\"y_train\"].clone()\n",
    "\n",
    "    replay_buffer[\"X_train\"].append(X_tensor)\n",
    "    replay_buffer[\"y_train\"].append(y_tensor)"
   ]
  },
  {
   "cell_type": "code",
   "execution_count": 19,
   "metadata": {},
   "outputs": [
    {
     "data": {
      "image/png": "[encoded data removed]",
      "text/plain": [
       "<Figure size 1000x600 with 1 Axes>"
      ]
     },
     "metadata": {},
     "output_type": "display_data"
    }
   ],
   "source": [
    "import matplotlib.pyplot as plt\n",
    "\n",
    "# Список этапов\n",
    "epochs = range(0, len(metrics_history))\n",
    "\n",
    "# Списки точности для новых и старых классов\n",
    "accuracy_new = [data['new'] for data in metrics_history]\n",
    "accuracy_old = [data['old'] for data in metrics_history]\n",
    "\n",
    "plt.figure(figsize=(10, 6))\n",
    "\n",
    "# Построение графика точности для новых классов\n",
    "plt.plot(epochs, accuracy_new, label='Accuracy на новых классах', marker='o', linestyle='-', color='blue')\n",
    "\n",
    "# Построение графика точности для старых классов\n",
    "plt.plot(epochs, accuracy_old, label='Accuracy на старых классах', marker='s', linestyle='--', color='red')\n",
    "\n",
    "# Настройка осей и заголовка\n",
    "plt.title('LogReg с дообучением на всех данных')\n",
    "plt.xlabel('Этап обучения')\n",
    "plt.ylabel('Точность (Accuracy)')\n",
    "plt.xticks(epochs)\n",
    "plt.legend()\n",
    "plt.grid(True)\n",
    "\n",
    "# Отображение графика\n",
    "plt.show()"
   ]
  },
  {
   "cell_type": "code",
   "execution_count": 20,
   "metadata": {},
   "outputs": [],
   "source": [
    "from tqdm import tqdm"
   ]
  },
  {
   "cell_type": "code",
   "execution_count": 36,
   "metadata": {},
   "outputs": [
    {
     "name": "stdout",
     "output_type": "stream",
     "text": [
      "Using device: cuda\n"
     ]
    },
    {
     "name": "stderr",
     "output_type": "stream",
     "text": [
      "c:\\Programming\\veri_metric\\unicom\\venv\\lib\\site-packages\\torch\\nn\\init.py:511: UserWarning: Initializing zero-element tensors is a no-op\n",
      "  warnings.warn(\"Initializing zero-element tensors is a no-op\")\n"
     ]
    },
    {
     "name": "stdout",
     "output_type": "stream",
     "text": [
      "\n",
      "=== Этап 1 ===\n"
     ]
    },
    {
     "name": "stderr",
     "output_type": "stream",
     "text": [
      "  1%|          | 51/5000 [00:08<13:05,  6.30it/s]"
     ]
    },
    {
     "name": "stdout",
     "output_type": "stream",
     "text": [
      "Epoch 50/5000 - Cls Loss: 3.5068, Gen Loss: 3.5037\n"
     ]
    },
    {
     "name": "stderr",
     "output_type": "stream",
     "text": [
      "  2%|▏         | 101/5000 [00:16<13:05,  6.23it/s]"
     ]
    },
    {
     "name": "stdout",
     "output_type": "stream",
     "text": [
      "Epoch 100/5000 - Cls Loss: 3.3409, Gen Loss: 3.3391\n",
      "Валидация: accuracy=0.0103\n"
     ]
    },
    {
     "name": "stderr",
     "output_type": "stream",
     "text": [
      "  3%|▎         | 151/5000 [00:24<12:24,  6.51it/s]"
     ]
    },
    {
     "name": "stdout",
     "output_type": "stream",
     "text": [
      "Epoch 150/5000 - Cls Loss: 3.2156, Gen Loss: 3.2135\n"
     ]
    },
    {
     "name": "stderr",
     "output_type": "stream",
     "text": [
      "  4%|▍         | 201/5000 [00:31<12:09,  6.58it/s]"
     ]
    },
    {
     "name": "stdout",
     "output_type": "stream",
     "text": [
      "Epoch 200/5000 - Cls Loss: 3.1331, Gen Loss: 3.1304\n",
      "Валидация: accuracy=0.0165\n"
     ]
    },
    {
     "name": "stderr",
     "output_type": "stream",
     "text": [
      "  5%|▌         | 251/5000 [00:39<12:20,  6.42it/s]"
     ]
    },
    {
     "name": "stdout",
     "output_type": "stream",
     "text": [
      "Epoch 250/5000 - Cls Loss: 3.0148, Gen Loss: 3.0129\n"
     ]
    },
    {
     "name": "stderr",
     "output_type": "stream",
     "text": [
      "  6%|▌         | 301/5000 [00:47<12:21,  6.34it/s]"
     ]
    },
    {
     "name": "stdout",
     "output_type": "stream",
     "text": [
      "Epoch 300/5000 - Cls Loss: 2.9326, Gen Loss: 2.9302\n",
      "Валидация: accuracy=0.0192\n"
     ]
    },
    {
     "name": "stderr",
     "output_type": "stream",
     "text": [
      "  7%|▋         | 351/5000 [00:54<12:00,  6.45it/s]"
     ]
    },
    {
     "name": "stdout",
     "output_type": "stream",
     "text": [
      "Epoch 350/5000 - Cls Loss: 2.8626, Gen Loss: 2.8609\n"
     ]
    },
    {
     "name": "stderr",
     "output_type": "stream",
     "text": [
      "  8%|▊         | 401/5000 [01:02<11:51,  6.47it/s]"
     ]
    },
    {
     "name": "stdout",
     "output_type": "stream",
     "text": [
      "Epoch 400/5000 - Cls Loss: 2.7258, Gen Loss: 2.7237\n",
      "Валидация: accuracy=0.0192\n"
     ]
    },
    {
     "name": "stderr",
     "output_type": "stream",
     "text": [
      "  9%|▉         | 451/5000 [01:10<11:31,  6.57it/s]"
     ]
    },
    {
     "name": "stdout",
     "output_type": "stream",
     "text": [
      "Epoch 450/5000 - Cls Loss: 2.6749, Gen Loss: 2.6732\n"
     ]
    },
    {
     "name": "stderr",
     "output_type": "stream",
     "text": [
      " 10%|█         | 501/5000 [01:17<11:12,  6.69it/s]"
     ]
    },
    {
     "name": "stdout",
     "output_type": "stream",
     "text": [
      "Epoch 500/5000 - Cls Loss: 2.6535, Gen Loss: 2.6515\n",
      "Валидация: accuracy=0.0192\n"
     ]
    },
    {
     "name": "stderr",
     "output_type": "stream",
     "text": [
      " 11%|█         | 551/5000 [01:25<11:24,  6.50it/s]"
     ]
    },
    {
     "name": "stdout",
     "output_type": "stream",
     "text": [
      "Epoch 550/5000 - Cls Loss: 2.5203, Gen Loss: 2.5176\n"
     ]
    },
    {
     "name": "stderr",
     "output_type": "stream",
     "text": [
      " 12%|█▏        | 601/5000 [01:33<11:31,  6.36it/s]"
     ]
    },
    {
     "name": "stdout",
     "output_type": "stream",
     "text": [
      "Epoch 600/5000 - Cls Loss: 2.4814, Gen Loss: 2.4794\n",
      "Валидация: accuracy=0.0192\n"
     ]
    },
    {
     "name": "stderr",
     "output_type": "stream",
     "text": [
      " 13%|█▎        | 651/5000 [01:41<11:05,  6.54it/s]"
     ]
    },
    {
     "name": "stdout",
     "output_type": "stream",
     "text": [
      "Epoch 650/5000 - Cls Loss: 2.4658, Gen Loss: 2.4634\n"
     ]
    },
    {
     "name": "stderr",
     "output_type": "stream",
     "text": [
      " 14%|█▍        | 701/5000 [01:49<11:18,  6.34it/s]"
     ]
    },
    {
     "name": "stdout",
     "output_type": "stream",
     "text": [
      "Epoch 700/5000 - Cls Loss: 2.3994, Gen Loss: 2.3977\n",
      "Валидация: accuracy=0.0192\n"
     ]
    },
    {
     "name": "stderr",
     "output_type": "stream",
     "text": [
      " 15%|█▌        | 751/5000 [01:57<11:23,  6.22it/s]"
     ]
    },
    {
     "name": "stdout",
     "output_type": "stream",
     "text": [
      "Epoch 750/5000 - Cls Loss: 2.3018, Gen Loss: 2.3002\n"
     ]
    },
    {
     "name": "stderr",
     "output_type": "stream",
     "text": [
      " 16%|█▌        | 801/5000 [02:04<10:59,  6.37it/s]"
     ]
    },
    {
     "name": "stdout",
     "output_type": "stream",
     "text": [
      "Epoch 800/5000 - Cls Loss: 2.2671, Gen Loss: 2.2656\n",
      "Валидация: accuracy=0.0192\n"
     ]
    },
    {
     "name": "stderr",
     "output_type": "stream",
     "text": [
      " 17%|█▋        | 851/5000 [02:12<10:56,  6.32it/s]"
     ]
    },
    {
     "name": "stdout",
     "output_type": "stream",
     "text": [
      "Epoch 850/5000 - Cls Loss: 2.1856, Gen Loss: 2.1836\n"
     ]
    },
    {
     "name": "stderr",
     "output_type": "stream",
     "text": [
      " 18%|█▊        | 901/5000 [02:20<10:27,  6.53it/s]"
     ]
    },
    {
     "name": "stdout",
     "output_type": "stream",
     "text": [
      "Epoch 900/5000 - Cls Loss: 2.2198, Gen Loss: 2.2182\n",
      "Валидация: accuracy=0.0192\n"
     ]
    },
    {
     "name": "stderr",
     "output_type": "stream",
     "text": [
      " 19%|█▉        | 951/5000 [02:28<10:14,  6.59it/s]"
     ]
    },
    {
     "name": "stdout",
     "output_type": "stream",
     "text": [
      "Epoch 950/5000 - Cls Loss: 2.1066, Gen Loss: 2.1049\n"
     ]
    },
    {
     "name": "stderr",
     "output_type": "stream",
     "text": [
      " 20%|██        | 1001/5000 [02:35<10:09,  6.56it/s]"
     ]
    },
    {
     "name": "stdout",
     "output_type": "stream",
     "text": [
      "Epoch 1000/5000 - Cls Loss: 2.0795, Gen Loss: 2.0778\n",
      "Валидация: accuracy=0.0192\n"
     ]
    },
    {
     "name": "stderr",
     "output_type": "stream",
     "text": [
      " 21%|██        | 1051/5000 [02:43<10:11,  6.45it/s]"
     ]
    },
    {
     "name": "stdout",
     "output_type": "stream",
     "text": [
      "Epoch 1050/5000 - Cls Loss: 2.0500, Gen Loss: 2.0481\n"
     ]
    },
    {
     "name": "stderr",
     "output_type": "stream",
     "text": [
      " 22%|██▏       | 1101/5000 [02:51<09:57,  6.53it/s]"
     ]
    },
    {
     "name": "stdout",
     "output_type": "stream",
     "text": [
      "Epoch 1100/5000 - Cls Loss: 2.0218, Gen Loss: 2.0207\n",
      "Валидация: accuracy=0.0192\n"
     ]
    },
    {
     "name": "stderr",
     "output_type": "stream",
     "text": [
      " 23%|██▎       | 1151/5000 [02:59<10:02,  6.39it/s]"
     ]
    },
    {
     "name": "stdout",
     "output_type": "stream",
     "text": [
      "Epoch 1150/5000 - Cls Loss: 1.9724, Gen Loss: 1.9706\n"
     ]
    },
    {
     "name": "stderr",
     "output_type": "stream",
     "text": [
      " 24%|██▍       | 1201/5000 [03:07<09:46,  6.48it/s]"
     ]
    },
    {
     "name": "stdout",
     "output_type": "stream",
     "text": [
      "Epoch 1200/5000 - Cls Loss: 1.9765, Gen Loss: 1.9750\n",
      "Валидация: accuracy=0.0192\n"
     ]
    },
    {
     "name": "stderr",
     "output_type": "stream",
     "text": [
      " 25%|██▌       | 1251/5000 [03:14<09:47,  6.38it/s]"
     ]
    },
    {
     "name": "stdout",
     "output_type": "stream",
     "text": [
      "Epoch 1250/5000 - Cls Loss: 1.9018, Gen Loss: 1.8996\n"
     ]
    },
    {
     "name": "stderr",
     "output_type": "stream",
     "text": [
      " 26%|██▌       | 1301/5000 [03:22<09:45,  6.32it/s]"
     ]
    },
    {
     "name": "stdout",
     "output_type": "stream",
     "text": [
      "Epoch 1300/5000 - Cls Loss: 1.9273, Gen Loss: 1.9253\n",
      "Валидация: accuracy=0.0192\n"
     ]
    },
    {
     "name": "stderr",
     "output_type": "stream",
     "text": [
      " 27%|██▋       | 1351/5000 [03:30<09:17,  6.54it/s]"
     ]
    },
    {
     "name": "stdout",
     "output_type": "stream",
     "text": [
      "Epoch 1350/5000 - Cls Loss: 1.7897, Gen Loss: 1.7881\n"
     ]
    },
    {
     "name": "stderr",
     "output_type": "stream",
     "text": [
      " 28%|██▊       | 1401/5000 [03:37<09:02,  6.63it/s]"
     ]
    },
    {
     "name": "stdout",
     "output_type": "stream",
     "text": [
      "Epoch 1400/5000 - Cls Loss: 1.8204, Gen Loss: 1.8184\n",
      "Валидация: accuracy=0.0192\n"
     ]
    },
    {
     "name": "stderr",
     "output_type": "stream",
     "text": [
      " 29%|██▉       | 1451/5000 [03:45<09:41,  6.10it/s]"
     ]
    },
    {
     "name": "stdout",
     "output_type": "stream",
     "text": [
      "Epoch 1450/5000 - Cls Loss: 1.7519, Gen Loss: 1.7502\n"
     ]
    },
    {
     "name": "stderr",
     "output_type": "stream",
     "text": [
      " 30%|███       | 1501/5000 [03:53<09:02,  6.45it/s]"
     ]
    },
    {
     "name": "stdout",
     "output_type": "stream",
     "text": [
      "Epoch 1500/5000 - Cls Loss: 1.7465, Gen Loss: 1.7445\n",
      "Валидация: accuracy=0.0192\n"
     ]
    },
    {
     "name": "stderr",
     "output_type": "stream",
     "text": [
      " 31%|███       | 1551/5000 [04:01<08:45,  6.56it/s]"
     ]
    },
    {
     "name": "stdout",
     "output_type": "stream",
     "text": [
      "Epoch 1550/5000 - Cls Loss: 1.7023, Gen Loss: 1.7002\n"
     ]
    },
    {
     "name": "stderr",
     "output_type": "stream",
     "text": [
      " 32%|███▏      | 1601/5000 [04:08<08:36,  6.58it/s]"
     ]
    },
    {
     "name": "stdout",
     "output_type": "stream",
     "text": [
      "Epoch 1600/5000 - Cls Loss: 1.7113, Gen Loss: 1.7098\n",
      "Валидация: accuracy=0.0192\n"
     ]
    },
    {
     "name": "stderr",
     "output_type": "stream",
     "text": [
      " 33%|███▎      | 1651/5000 [04:16<08:37,  6.47it/s]"
     ]
    },
    {
     "name": "stdout",
     "output_type": "stream",
     "text": [
      "Epoch 1650/5000 - Cls Loss: 1.7101, Gen Loss: 1.7088\n"
     ]
    },
    {
     "name": "stderr",
     "output_type": "stream",
     "text": [
      " 34%|███▍      | 1701/5000 [04:24<08:25,  6.53it/s]"
     ]
    },
    {
     "name": "stdout",
     "output_type": "stream",
     "text": [
      "Epoch 1700/5000 - Cls Loss: 1.6552, Gen Loss: 1.6540\n",
      "Валидация: accuracy=0.0192\n"
     ]
    },
    {
     "name": "stderr",
     "output_type": "stream",
     "text": [
      " 35%|███▌      | 1751/5000 [04:31<08:12,  6.60it/s]"
     ]
    },
    {
     "name": "stdout",
     "output_type": "stream",
     "text": [
      "Epoch 1750/5000 - Cls Loss: 1.6583, Gen Loss: 1.6565\n"
     ]
    },
    {
     "name": "stderr",
     "output_type": "stream",
     "text": [
      " 36%|███▌      | 1801/5000 [04:39<08:07,  6.56it/s]"
     ]
    },
    {
     "name": "stdout",
     "output_type": "stream",
     "text": [
      "Epoch 1800/5000 - Cls Loss: 1.5329, Gen Loss: 1.5318\n",
      "Валидация: accuracy=0.0192\n"
     ]
    },
    {
     "name": "stderr",
     "output_type": "stream",
     "text": [
      " 37%|███▋      | 1851/5000 [04:47<08:08,  6.44it/s]"
     ]
    },
    {
     "name": "stdout",
     "output_type": "stream",
     "text": [
      "Epoch 1850/5000 - Cls Loss: 1.5676, Gen Loss: 1.5661\n"
     ]
    },
    {
     "name": "stderr",
     "output_type": "stream",
     "text": [
      " 38%|███▊      | 1901/5000 [04:54<08:01,  6.44it/s]"
     ]
    },
    {
     "name": "stdout",
     "output_type": "stream",
     "text": [
      "Epoch 1900/5000 - Cls Loss: 1.5766, Gen Loss: 1.5749\n",
      "Валидация: accuracy=0.0192\n"
     ]
    },
    {
     "name": "stderr",
     "output_type": "stream",
     "text": [
      " 39%|███▉      | 1951/5000 [05:02<08:04,  6.29it/s]"
     ]
    },
    {
     "name": "stdout",
     "output_type": "stream",
     "text": [
      "Epoch 1950/5000 - Cls Loss: 1.4998, Gen Loss: 1.4988\n"
     ]
    },
    {
     "name": "stderr",
     "output_type": "stream",
     "text": [
      " 40%|████      | 2001/5000 [05:10<07:38,  6.53it/s]"
     ]
    },
    {
     "name": "stdout",
     "output_type": "stream",
     "text": [
      "Epoch 2000/5000 - Cls Loss: 1.4876, Gen Loss: 1.4863\n",
      "Валидация: accuracy=0.0192\n"
     ]
    },
    {
     "name": "stderr",
     "output_type": "stream",
     "text": [
      " 41%|████      | 2051/5000 [05:18<07:33,  6.50it/s]"
     ]
    },
    {
     "name": "stdout",
     "output_type": "stream",
     "text": [
      "Epoch 2050/5000 - Cls Loss: 1.4977, Gen Loss: 1.4964\n"
     ]
    },
    {
     "name": "stderr",
     "output_type": "stream",
     "text": [
      " 42%|████▏     | 2101/5000 [05:25<07:31,  6.42it/s]"
     ]
    },
    {
     "name": "stdout",
     "output_type": "stream",
     "text": [
      "Epoch 2100/5000 - Cls Loss: 1.4672, Gen Loss: 1.4654\n",
      "Валидация: accuracy=0.0192\n"
     ]
    },
    {
     "name": "stderr",
     "output_type": "stream",
     "text": [
      " 43%|████▎     | 2151/5000 [05:33<07:29,  6.33it/s]"
     ]
    },
    {
     "name": "stdout",
     "output_type": "stream",
     "text": [
      "Epoch 2150/5000 - Cls Loss: 1.4258, Gen Loss: 1.4245\n"
     ]
    },
    {
     "name": "stderr",
     "output_type": "stream",
     "text": [
      " 44%|████▍     | 2201/5000 [05:41<07:10,  6.50it/s]"
     ]
    },
    {
     "name": "stdout",
     "output_type": "stream",
     "text": [
      "Epoch 2200/5000 - Cls Loss: 1.4266, Gen Loss: 1.4250\n",
      "Валидация: accuracy=0.0192\n"
     ]
    },
    {
     "name": "stderr",
     "output_type": "stream",
     "text": [
      " 45%|████▌     | 2251/5000 [05:49<07:02,  6.50it/s]"
     ]
    },
    {
     "name": "stdout",
     "output_type": "stream",
     "text": [
      "Epoch 2250/5000 - Cls Loss: 1.4863, Gen Loss: 1.4847\n"
     ]
    },
    {
     "name": "stderr",
     "output_type": "stream",
     "text": [
      " 46%|████▌     | 2301/5000 [05:57<07:02,  6.39it/s]"
     ]
    },
    {
     "name": "stdout",
     "output_type": "stream",
     "text": [
      "Epoch 2300/5000 - Cls Loss: 1.4357, Gen Loss: 1.4343\n",
      "Валидация: accuracy=0.0192\n"
     ]
    },
    {
     "name": "stderr",
     "output_type": "stream",
     "text": [
      " 47%|████▋     | 2351/5000 [06:04<06:46,  6.52it/s]"
     ]
    },
    {
     "name": "stdout",
     "output_type": "stream",
     "text": [
      "Epoch 2350/5000 - Cls Loss: 1.4543, Gen Loss: 1.4531\n"
     ]
    },
    {
     "name": "stderr",
     "output_type": "stream",
     "text": [
      " 48%|████▊     | 2401/5000 [06:12<06:43,  6.44it/s]"
     ]
    },
    {
     "name": "stdout",
     "output_type": "stream",
     "text": [
      "Epoch 2400/5000 - Cls Loss: 1.3889, Gen Loss: 1.3872\n",
      "Валидация: accuracy=0.0192\n"
     ]
    },
    {
     "name": "stderr",
     "output_type": "stream",
     "text": [
      " 49%|████▉     | 2451/5000 [06:19<06:31,  6.51it/s]"
     ]
    },
    {
     "name": "stdout",
     "output_type": "stream",
     "text": [
      "Epoch 2450/5000 - Cls Loss: 1.4298, Gen Loss: 1.4282\n"
     ]
    },
    {
     "name": "stderr",
     "output_type": "stream",
     "text": [
      " 50%|█████     | 2501/5000 [06:27<06:13,  6.69it/s]"
     ]
    },
    {
     "name": "stdout",
     "output_type": "stream",
     "text": [
      "Epoch 2500/5000 - Cls Loss: 1.3725, Gen Loss: 1.3710\n",
      "Валидация: accuracy=0.0192\n"
     ]
    },
    {
     "name": "stderr",
     "output_type": "stream",
     "text": [
      " 51%|█████     | 2551/5000 [06:35<06:34,  6.21it/s]"
     ]
    },
    {
     "name": "stdout",
     "output_type": "stream",
     "text": [
      "Epoch 2550/5000 - Cls Loss: 1.3640, Gen Loss: 1.3628\n"
     ]
    },
    {
     "name": "stderr",
     "output_type": "stream",
     "text": [
      " 52%|█████▏    | 2601/5000 [06:42<06:02,  6.63it/s]"
     ]
    },
    {
     "name": "stdout",
     "output_type": "stream",
     "text": [
      "Epoch 2600/5000 - Cls Loss: 1.3903, Gen Loss: 1.3889\n",
      "Валидация: accuracy=0.0192\n"
     ]
    },
    {
     "name": "stderr",
     "output_type": "stream",
     "text": [
      " 53%|█████▎    | 2651/5000 [06:50<06:14,  6.27it/s]"
     ]
    },
    {
     "name": "stdout",
     "output_type": "stream",
     "text": [
      "Epoch 2650/5000 - Cls Loss: 1.3370, Gen Loss: 1.3354\n"
     ]
    },
    {
     "name": "stderr",
     "output_type": "stream",
     "text": [
      " 54%|█████▍    | 2701/5000 [06:58<05:49,  6.58it/s]"
     ]
    },
    {
     "name": "stdout",
     "output_type": "stream",
     "text": [
      "Epoch 2700/5000 - Cls Loss: 1.2987, Gen Loss: 1.2974\n",
      "Валидация: accuracy=0.0192\n"
     ]
    },
    {
     "name": "stderr",
     "output_type": "stream",
     "text": [
      " 55%|█████▌    | 2751/5000 [07:05<05:27,  6.87it/s]"
     ]
    },
    {
     "name": "stdout",
     "output_type": "stream",
     "text": [
      "Epoch 2750/5000 - Cls Loss: 1.3226, Gen Loss: 1.3212\n"
     ]
    },
    {
     "name": "stderr",
     "output_type": "stream",
     "text": [
      " 56%|█████▌    | 2801/5000 [07:12<05:22,  6.82it/s]"
     ]
    },
    {
     "name": "stdout",
     "output_type": "stream",
     "text": [
      "Epoch 2800/5000 - Cls Loss: 1.2869, Gen Loss: 1.2859\n",
      "Валидация: accuracy=0.0192\n"
     ]
    },
    {
     "name": "stderr",
     "output_type": "stream",
     "text": [
      " 57%|█████▋    | 2851/5000 [07:20<05:24,  6.63it/s]"
     ]
    },
    {
     "name": "stdout",
     "output_type": "stream",
     "text": [
      "Epoch 2850/5000 - Cls Loss: 1.2801, Gen Loss: 1.2785\n"
     ]
    },
    {
     "name": "stderr",
     "output_type": "stream",
     "text": [
      " 58%|█████▊    | 2901/5000 [07:27<05:08,  6.81it/s]"
     ]
    },
    {
     "name": "stdout",
     "output_type": "stream",
     "text": [
      "Epoch 2900/5000 - Cls Loss: 1.3100, Gen Loss: 1.3087\n",
      "Валидация: accuracy=0.0192\n"
     ]
    },
    {
     "name": "stderr",
     "output_type": "stream",
     "text": [
      " 59%|█████▉    | 2951/5000 [07:35<04:57,  6.90it/s]"
     ]
    },
    {
     "name": "stdout",
     "output_type": "stream",
     "text": [
      "Epoch 2950/5000 - Cls Loss: 1.2667, Gen Loss: 1.2655\n"
     ]
    },
    {
     "name": "stderr",
     "output_type": "stream",
     "text": [
      " 60%|██████    | 3001/5000 [07:42<04:51,  6.86it/s]"
     ]
    },
    {
     "name": "stdout",
     "output_type": "stream",
     "text": [
      "Epoch 3000/5000 - Cls Loss: 1.2982, Gen Loss: 1.2969\n",
      "Валидация: accuracy=0.0192\n"
     ]
    },
    {
     "name": "stderr",
     "output_type": "stream",
     "text": [
      " 61%|██████    | 3051/5000 [07:50<04:53,  6.63it/s]"
     ]
    },
    {
     "name": "stdout",
     "output_type": "stream",
     "text": [
      "Epoch 3050/5000 - Cls Loss: 1.2663, Gen Loss: 1.2654\n"
     ]
    },
    {
     "name": "stderr",
     "output_type": "stream",
     "text": [
      " 62%|██████▏   | 3101/5000 [07:57<04:38,  6.81it/s]"
     ]
    },
    {
     "name": "stdout",
     "output_type": "stream",
     "text": [
      "Epoch 3100/5000 - Cls Loss: 1.2605, Gen Loss: 1.2596\n",
      "Валидация: accuracy=0.0192\n"
     ]
    },
    {
     "name": "stderr",
     "output_type": "stream",
     "text": [
      " 63%|██████▎   | 3151/5000 [08:05<04:37,  6.67it/s]"
     ]
    },
    {
     "name": "stdout",
     "output_type": "stream",
     "text": [
      "Epoch 3150/5000 - Cls Loss: 1.2022, Gen Loss: 1.2009\n"
     ]
    },
    {
     "name": "stderr",
     "output_type": "stream",
     "text": [
      " 64%|██████▍   | 3201/5000 [08:12<04:29,  6.69it/s]"
     ]
    },
    {
     "name": "stdout",
     "output_type": "stream",
     "text": [
      "Epoch 3200/5000 - Cls Loss: 1.2399, Gen Loss: 1.2389\n",
      "Валидация: accuracy=0.0192\n"
     ]
    },
    {
     "name": "stderr",
     "output_type": "stream",
     "text": [
      " 65%|██████▌   | 3251/5000 [08:20<04:15,  6.85it/s]"
     ]
    },
    {
     "name": "stdout",
     "output_type": "stream",
     "text": [
      "Epoch 3250/5000 - Cls Loss: 1.2152, Gen Loss: 1.2138\n"
     ]
    },
    {
     "name": "stderr",
     "output_type": "stream",
     "text": [
      " 66%|██████▌   | 3301/5000 [08:27<04:08,  6.85it/s]"
     ]
    },
    {
     "name": "stdout",
     "output_type": "stream",
     "text": [
      "Epoch 3300/5000 - Cls Loss: 1.2190, Gen Loss: 1.2179\n",
      "Валидация: accuracy=0.0192\n"
     ]
    },
    {
     "name": "stderr",
     "output_type": "stream",
     "text": [
      " 67%|██████▋   | 3351/5000 [08:34<04:13,  6.51it/s]"
     ]
    },
    {
     "name": "stdout",
     "output_type": "stream",
     "text": [
      "Epoch 3350/5000 - Cls Loss: 1.2432, Gen Loss: 1.2419\n"
     ]
    },
    {
     "name": "stderr",
     "output_type": "stream",
     "text": [
      " 68%|██████▊   | 3401/5000 [08:42<04:11,  6.36it/s]"
     ]
    },
    {
     "name": "stdout",
     "output_type": "stream",
     "text": [
      "Epoch 3400/5000 - Cls Loss: 1.1936, Gen Loss: 1.1925\n",
      "Валидация: accuracy=0.0192\n"
     ]
    },
    {
     "name": "stderr",
     "output_type": "stream",
     "text": [
      " 69%|██████▉   | 3451/5000 [08:49<03:50,  6.71it/s]"
     ]
    },
    {
     "name": "stdout",
     "output_type": "stream",
     "text": [
      "Epoch 3450/5000 - Cls Loss: 1.2248, Gen Loss: 1.2238\n"
     ]
    },
    {
     "name": "stderr",
     "output_type": "stream",
     "text": [
      " 70%|███████   | 3501/5000 [08:57<03:46,  6.62it/s]"
     ]
    },
    {
     "name": "stdout",
     "output_type": "stream",
     "text": [
      "Epoch 3500/5000 - Cls Loss: 1.2370, Gen Loss: 1.2358\n",
      "Валидация: accuracy=0.0192\n"
     ]
    },
    {
     "name": "stderr",
     "output_type": "stream",
     "text": [
      " 71%|███████   | 3551/5000 [09:04<03:33,  6.78it/s]"
     ]
    },
    {
     "name": "stdout",
     "output_type": "stream",
     "text": [
      "Epoch 3550/5000 - Cls Loss: 1.2022, Gen Loss: 1.2009\n"
     ]
    },
    {
     "name": "stderr",
     "output_type": "stream",
     "text": [
      " 72%|███████▏  | 3601/5000 [09:12<03:26,  6.78it/s]"
     ]
    },
    {
     "name": "stdout",
     "output_type": "stream",
     "text": [
      "Epoch 3600/5000 - Cls Loss: 1.1858, Gen Loss: 1.1848\n",
      "Валидация: accuracy=0.0192\n"
     ]
    },
    {
     "name": "stderr",
     "output_type": "stream",
     "text": [
      " 73%|███████▎  | 3651/5000 [09:19<03:19,  6.78it/s]"
     ]
    },
    {
     "name": "stdout",
     "output_type": "stream",
     "text": [
      "Epoch 3650/5000 - Cls Loss: 1.1793, Gen Loss: 1.1785\n"
     ]
    },
    {
     "name": "stderr",
     "output_type": "stream",
     "text": [
      " 74%|███████▍  | 3701/5000 [09:27<03:10,  6.82it/s]"
     ]
    },
    {
     "name": "stdout",
     "output_type": "stream",
     "text": [
      "Epoch 3700/5000 - Cls Loss: 1.1611, Gen Loss: 1.1598\n",
      "Валидация: accuracy=0.0192\n"
     ]
    },
    {
     "name": "stderr",
     "output_type": "stream",
     "text": [
      " 75%|███████▌  | 3751/5000 [09:34<03:10,  6.57it/s]"
     ]
    },
    {
     "name": "stdout",
     "output_type": "stream",
     "text": [
      "Epoch 3750/5000 - Cls Loss: 1.1442, Gen Loss: 1.1429\n"
     ]
    },
    {
     "name": "stderr",
     "output_type": "stream",
     "text": [
      " 76%|███████▌  | 3801/5000 [09:41<02:53,  6.91it/s]"
     ]
    },
    {
     "name": "stdout",
     "output_type": "stream",
     "text": [
      "Epoch 3800/5000 - Cls Loss: 1.1740, Gen Loss: 1.1733\n",
      "Валидация: accuracy=0.0192\n"
     ]
    },
    {
     "name": "stderr",
     "output_type": "stream",
     "text": [
      " 77%|███████▋  | 3851/5000 [09:49<02:53,  6.62it/s]"
     ]
    },
    {
     "name": "stdout",
     "output_type": "stream",
     "text": [
      "Epoch 3850/5000 - Cls Loss: 1.1674, Gen Loss: 1.1658\n"
     ]
    },
    {
     "name": "stderr",
     "output_type": "stream",
     "text": [
      " 78%|███████▊  | 3901/5000 [09:56<02:45,  6.65it/s]"
     ]
    },
    {
     "name": "stdout",
     "output_type": "stream",
     "text": [
      "Epoch 3900/5000 - Cls Loss: 1.1818, Gen Loss: 1.1804\n",
      "Валидация: accuracy=0.0192\n"
     ]
    },
    {
     "name": "stderr",
     "output_type": "stream",
     "text": [
      " 79%|███████▉  | 3951/5000 [10:04<02:32,  6.88it/s]"
     ]
    },
    {
     "name": "stdout",
     "output_type": "stream",
     "text": [
      "Epoch 3950/5000 - Cls Loss: 1.1530, Gen Loss: 1.1515\n"
     ]
    },
    {
     "name": "stderr",
     "output_type": "stream",
     "text": [
      " 80%|████████  | 4001/5000 [10:11<02:31,  6.59it/s]"
     ]
    },
    {
     "name": "stdout",
     "output_type": "stream",
     "text": [
      "Epoch 4000/5000 - Cls Loss: 1.1544, Gen Loss: 1.1534\n",
      "Валидация: accuracy=0.0192\n"
     ]
    },
    {
     "name": "stderr",
     "output_type": "stream",
     "text": [
      " 81%|████████  | 4051/5000 [10:19<02:19,  6.80it/s]"
     ]
    },
    {
     "name": "stdout",
     "output_type": "stream",
     "text": [
      "Epoch 4050/5000 - Cls Loss: 1.1566, Gen Loss: 1.1554\n"
     ]
    },
    {
     "name": "stderr",
     "output_type": "stream",
     "text": [
      " 82%|████████▏ | 4101/5000 [10:27<02:14,  6.66it/s]"
     ]
    },
    {
     "name": "stdout",
     "output_type": "stream",
     "text": [
      "Epoch 4100/5000 - Cls Loss: 1.1605, Gen Loss: 1.1596\n",
      "Валидация: accuracy=0.0192\n"
     ]
    },
    {
     "name": "stderr",
     "output_type": "stream",
     "text": [
      " 83%|████████▎ | 4151/5000 [10:34<02:05,  6.74it/s]"
     ]
    },
    {
     "name": "stdout",
     "output_type": "stream",
     "text": [
      "Epoch 4150/5000 - Cls Loss: 1.1141, Gen Loss: 1.1130\n"
     ]
    },
    {
     "name": "stderr",
     "output_type": "stream",
     "text": [
      " 84%|████████▍ | 4201/5000 [10:41<01:55,  6.92it/s]"
     ]
    },
    {
     "name": "stdout",
     "output_type": "stream",
     "text": [
      "Epoch 4200/5000 - Cls Loss: 1.1012, Gen Loss: 1.0999\n",
      "Валидация: accuracy=0.0192\n"
     ]
    },
    {
     "name": "stderr",
     "output_type": "stream",
     "text": [
      " 85%|████████▌ | 4251/5000 [10:48<01:48,  6.90it/s]"
     ]
    },
    {
     "name": "stdout",
     "output_type": "stream",
     "text": [
      "Epoch 4250/5000 - Cls Loss: 1.0901, Gen Loss: 1.0888\n"
     ]
    },
    {
     "name": "stderr",
     "output_type": "stream",
     "text": [
      " 86%|████████▌ | 4301/5000 [10:55<01:40,  6.96it/s]"
     ]
    },
    {
     "name": "stdout",
     "output_type": "stream",
     "text": [
      "Epoch 4300/5000 - Cls Loss: 1.1042, Gen Loss: 1.1029\n",
      "Валидация: accuracy=0.0192\n"
     ]
    },
    {
     "name": "stderr",
     "output_type": "stream",
     "text": [
      " 87%|████████▋ | 4351/5000 [11:03<01:40,  6.46it/s]"
     ]
    },
    {
     "name": "stdout",
     "output_type": "stream",
     "text": [
      "Epoch 4350/5000 - Cls Loss: 1.0719, Gen Loss: 1.0706\n"
     ]
    },
    {
     "name": "stderr",
     "output_type": "stream",
     "text": [
      " 88%|████████▊ | 4401/5000 [11:11<01:32,  6.46it/s]"
     ]
    },
    {
     "name": "stdout",
     "output_type": "stream",
     "text": [
      "Epoch 4400/5000 - Cls Loss: 1.1172, Gen Loss: 1.1162\n",
      "Валидация: accuracy=0.0192\n"
     ]
    },
    {
     "name": "stderr",
     "output_type": "stream",
     "text": [
      " 89%|████████▉ | 4451/5000 [11:18<01:24,  6.52it/s]"
     ]
    },
    {
     "name": "stdout",
     "output_type": "stream",
     "text": [
      "Epoch 4450/5000 - Cls Loss: 1.0456, Gen Loss: 1.0445\n"
     ]
    },
    {
     "name": "stderr",
     "output_type": "stream",
     "text": [
      " 90%|█████████ | 4501/5000 [11:26<01:17,  6.43it/s]"
     ]
    },
    {
     "name": "stdout",
     "output_type": "stream",
     "text": [
      "Epoch 4500/5000 - Cls Loss: 1.0949, Gen Loss: 1.0934\n",
      "Валидация: accuracy=0.0192\n"
     ]
    },
    {
     "name": "stderr",
     "output_type": "stream",
     "text": [
      " 91%|█████████ | 4551/5000 [11:34<01:08,  6.56it/s]"
     ]
    },
    {
     "name": "stdout",
     "output_type": "stream",
     "text": [
      "Epoch 4550/5000 - Cls Loss: 1.0714, Gen Loss: 1.0703\n"
     ]
    },
    {
     "name": "stderr",
     "output_type": "stream",
     "text": [
      " 92%|█████████▏| 4601/5000 [11:41<01:00,  6.62it/s]"
     ]
    },
    {
     "name": "stdout",
     "output_type": "stream",
     "text": [
      "Epoch 4600/5000 - Cls Loss: 1.0740, Gen Loss: 1.0731\n",
      "Валидация: accuracy=0.0192\n"
     ]
    },
    {
     "name": "stderr",
     "output_type": "stream",
     "text": [
      " 93%|█████████▎| 4651/5000 [11:49<00:53,  6.57it/s]"
     ]
    },
    {
     "name": "stdout",
     "output_type": "stream",
     "text": [
      "Epoch 4650/5000 - Cls Loss: 1.0709, Gen Loss: 1.0701\n"
     ]
    },
    {
     "name": "stderr",
     "output_type": "stream",
     "text": [
      " 94%|█████████▍| 4701/5000 [11:57<00:46,  6.45it/s]"
     ]
    },
    {
     "name": "stdout",
     "output_type": "stream",
     "text": [
      "Epoch 4700/5000 - Cls Loss: 1.1044, Gen Loss: 1.1026\n",
      "Валидация: accuracy=0.0192\n"
     ]
    },
    {
     "name": "stderr",
     "output_type": "stream",
     "text": [
      " 95%|█████████▌| 4751/5000 [12:04<00:38,  6.53it/s]"
     ]
    },
    {
     "name": "stdout",
     "output_type": "stream",
     "text": [
      "Epoch 4750/5000 - Cls Loss: 1.0622, Gen Loss: 1.0612\n"
     ]
    },
    {
     "name": "stderr",
     "output_type": "stream",
     "text": [
      " 96%|█████████▌| 4801/5000 [12:12<00:30,  6.43it/s]"
     ]
    },
    {
     "name": "stdout",
     "output_type": "stream",
     "text": [
      "Epoch 4800/5000 - Cls Loss: 1.0879, Gen Loss: 1.0865\n",
      "Валидация: accuracy=0.0192\n"
     ]
    },
    {
     "name": "stderr",
     "output_type": "stream",
     "text": [
      " 97%|█████████▋| 4851/5000 [12:20<00:23,  6.31it/s]"
     ]
    },
    {
     "name": "stdout",
     "output_type": "stream",
     "text": [
      "Epoch 4850/5000 - Cls Loss: 1.0494, Gen Loss: 1.0487\n"
     ]
    },
    {
     "name": "stderr",
     "output_type": "stream",
     "text": [
      " 98%|█████████▊| 4901/5000 [12:28<00:15,  6.31it/s]"
     ]
    },
    {
     "name": "stdout",
     "output_type": "stream",
     "text": [
      "Epoch 4900/5000 - Cls Loss: 1.0428, Gen Loss: 1.0411\n",
      "Валидация: accuracy=0.0192\n"
     ]
    },
    {
     "name": "stderr",
     "output_type": "stream",
     "text": [
      " 99%|█████████▉| 4951/5000 [12:36<00:07,  6.31it/s]"
     ]
    },
    {
     "name": "stdout",
     "output_type": "stream",
     "text": [
      "Epoch 4950/5000 - Cls Loss: 0.9974, Gen Loss: 0.9962\n"
     ]
    },
    {
     "name": "stderr",
     "output_type": "stream",
     "text": [
      "100%|██████████| 5000/5000 [12:43<00:00,  6.55it/s]\n"
     ]
    },
    {
     "name": "stdout",
     "output_type": "stream",
     "text": [
      "Epoch 5000/5000 - Cls Loss: 1.0655, Gen Loss: 1.0645\n",
      "Валидация: accuracy=0.0192\n",
      "Валидация: accuracy=0.0192\n",
      "\n",
      "=== Этап 2 ===\n"
     ]
    },
    {
     "name": "stderr",
     "output_type": "stream",
     "text": [
      "  1%|          | 51/5000 [00:07<12:49,  6.43it/s]"
     ]
    },
    {
     "name": "stdout",
     "output_type": "stream",
     "text": [
      "Epoch 50/5000 - Cls Loss: 3.4962, Gen Loss: 3.4939\n"
     ]
    },
    {
     "name": "stderr",
     "output_type": "stream",
     "text": [
      "  2%|▏         | 101/5000 [00:15<12:19,  6.62it/s]"
     ]
    },
    {
     "name": "stdout",
     "output_type": "stream",
     "text": [
      "Epoch 100/5000 - Cls Loss: 3.3495, Gen Loss: 3.3461\n",
      "Валидация: accuracy=0.0198\n"
     ]
    },
    {
     "name": "stderr",
     "output_type": "stream",
     "text": [
      "  3%|▎         | 151/5000 [00:22<12:09,  6.65it/s]"
     ]
    },
    {
     "name": "stdout",
     "output_type": "stream",
     "text": [
      "Epoch 150/5000 - Cls Loss: 3.2323, Gen Loss: 3.2293\n"
     ]
    },
    {
     "name": "stderr",
     "output_type": "stream",
     "text": [
      "  4%|▍         | 201/5000 [00:30<12:01,  6.66it/s]"
     ]
    },
    {
     "name": "stdout",
     "output_type": "stream",
     "text": [
      "Epoch 200/5000 - Cls Loss: 3.1858, Gen Loss: 3.1834\n",
      "Валидация: accuracy=0.0149\n"
     ]
    },
    {
     "name": "stderr",
     "output_type": "stream",
     "text": [
      "  5%|▌         | 251/5000 [00:37<11:51,  6.67it/s]"
     ]
    },
    {
     "name": "stdout",
     "output_type": "stream",
     "text": [
      "Epoch 250/5000 - Cls Loss: 3.0445, Gen Loss: 3.0426\n"
     ]
    },
    {
     "name": "stderr",
     "output_type": "stream",
     "text": [
      "  6%|▌         | 301/5000 [00:45<11:47,  6.65it/s]"
     ]
    },
    {
     "name": "stdout",
     "output_type": "stream",
     "text": [
      "Epoch 300/5000 - Cls Loss: 2.9752, Gen Loss: 2.9733\n",
      "Валидация: accuracy=0.0099\n"
     ]
    },
    {
     "name": "stderr",
     "output_type": "stream",
     "text": [
      "  7%|▋         | 351/5000 [00:52<11:31,  6.72it/s]"
     ]
    },
    {
     "name": "stdout",
     "output_type": "stream",
     "text": [
      "Epoch 350/5000 - Cls Loss: 2.9083, Gen Loss: 2.9055\n"
     ]
    },
    {
     "name": "stderr",
     "output_type": "stream",
     "text": [
      "  8%|▊         | 401/5000 [01:00<11:30,  6.66it/s]"
     ]
    },
    {
     "name": "stdout",
     "output_type": "stream",
     "text": [
      "Epoch 400/5000 - Cls Loss: 2.7838, Gen Loss: 2.7816\n",
      "Валидация: accuracy=0.0069\n"
     ]
    },
    {
     "name": "stderr",
     "output_type": "stream",
     "text": [
      "  9%|▉         | 451/5000 [01:07<11:22,  6.66it/s]"
     ]
    },
    {
     "name": "stdout",
     "output_type": "stream",
     "text": [
      "Epoch 450/5000 - Cls Loss: 2.7311, Gen Loss: 2.7277\n"
     ]
    },
    {
     "name": "stderr",
     "output_type": "stream",
     "text": [
      " 10%|█         | 501/5000 [01:15<11:14,  6.67it/s]"
     ]
    },
    {
     "name": "stdout",
     "output_type": "stream",
     "text": [
      "Epoch 500/5000 - Cls Loss: 2.6711, Gen Loss: 2.6687\n",
      "Валидация: accuracy=0.0074\n"
     ]
    },
    {
     "name": "stderr",
     "output_type": "stream",
     "text": [
      " 11%|█         | 551/5000 [01:22<11:07,  6.66it/s]"
     ]
    },
    {
     "name": "stdout",
     "output_type": "stream",
     "text": [
      "Epoch 550/5000 - Cls Loss: 2.5544, Gen Loss: 2.5520\n"
     ]
    },
    {
     "name": "stderr",
     "output_type": "stream",
     "text": [
      " 12%|█▏        | 601/5000 [01:30<10:59,  6.67it/s]"
     ]
    },
    {
     "name": "stdout",
     "output_type": "stream",
     "text": [
      "Epoch 600/5000 - Cls Loss: 2.5195, Gen Loss: 2.5173\n",
      "Валидация: accuracy=0.0030\n"
     ]
    },
    {
     "name": "stderr",
     "output_type": "stream",
     "text": [
      " 13%|█▎        | 651/5000 [01:37<10:50,  6.69it/s]"
     ]
    },
    {
     "name": "stdout",
     "output_type": "stream",
     "text": [
      "Epoch 650/5000 - Cls Loss: 2.4730, Gen Loss: 2.4698\n"
     ]
    },
    {
     "name": "stderr",
     "output_type": "stream",
     "text": [
      " 14%|█▍        | 701/5000 [01:45<10:43,  6.68it/s]"
     ]
    },
    {
     "name": "stdout",
     "output_type": "stream",
     "text": [
      "Epoch 700/5000 - Cls Loss: 2.3658, Gen Loss: 2.3632\n",
      "Валидация: accuracy=0.0010\n"
     ]
    },
    {
     "name": "stderr",
     "output_type": "stream",
     "text": [
      " 15%|█▌        | 751/5000 [01:52<10:37,  6.67it/s]"
     ]
    },
    {
     "name": "stdout",
     "output_type": "stream",
     "text": [
      "Epoch 750/5000 - Cls Loss: 2.2544, Gen Loss: 2.2523\n"
     ]
    },
    {
     "name": "stderr",
     "output_type": "stream",
     "text": [
      " 16%|█▌        | 801/5000 [02:00<10:37,  6.59it/s]"
     ]
    },
    {
     "name": "stdout",
     "output_type": "stream",
     "text": [
      "Epoch 800/5000 - Cls Loss: 2.2742, Gen Loss: 2.2720\n",
      "Валидация: accuracy=0.0000\n"
     ]
    },
    {
     "name": "stderr",
     "output_type": "stream",
     "text": [
      " 17%|█▋        | 851/5000 [02:07<10:28,  6.60it/s]"
     ]
    },
    {
     "name": "stdout",
     "output_type": "stream",
     "text": [
      "Epoch 850/5000 - Cls Loss: 2.2217, Gen Loss: 2.2200\n"
     ]
    },
    {
     "name": "stderr",
     "output_type": "stream",
     "text": [
      " 18%|█▊        | 901/5000 [02:15<10:36,  6.44it/s]"
     ]
    },
    {
     "name": "stdout",
     "output_type": "stream",
     "text": [
      "Epoch 900/5000 - Cls Loss: 2.1906, Gen Loss: 2.1879\n",
      "Валидация: accuracy=0.0000\n"
     ]
    },
    {
     "name": "stderr",
     "output_type": "stream",
     "text": [
      " 19%|█▉        | 951/5000 [02:23<10:42,  6.30it/s]"
     ]
    },
    {
     "name": "stdout",
     "output_type": "stream",
     "text": [
      "Epoch 950/5000 - Cls Loss: 2.0936, Gen Loss: 2.0920\n"
     ]
    },
    {
     "name": "stderr",
     "output_type": "stream",
     "text": [
      " 20%|██        | 1000/5000 [02:31<10:40,  6.25it/s]"
     ]
    },
    {
     "name": "stdout",
     "output_type": "stream",
     "text": [
      "Epoch 1000/5000 - Cls Loss: 2.1359, Gen Loss: 2.1339\n",
      "Валидация: accuracy=0.0000\n"
     ]
    },
    {
     "name": "stderr",
     "output_type": "stream",
     "text": [
      " 21%|██        | 1051/5000 [02:39<09:47,  6.72it/s]"
     ]
    },
    {
     "name": "stdout",
     "output_type": "stream",
     "text": [
      "Epoch 1050/5000 - Cls Loss: 2.0599, Gen Loss: 2.0585\n"
     ]
    },
    {
     "name": "stderr",
     "output_type": "stream",
     "text": [
      " 22%|██▏       | 1101/5000 [02:46<09:42,  6.69it/s]"
     ]
    },
    {
     "name": "stdout",
     "output_type": "stream",
     "text": [
      "Epoch 1100/5000 - Cls Loss: 1.9932, Gen Loss: 1.9916\n",
      "Валидация: accuracy=0.0000\n"
     ]
    },
    {
     "name": "stderr",
     "output_type": "stream",
     "text": [
      " 23%|██▎       | 1151/5000 [02:54<10:11,  6.30it/s]"
     ]
    },
    {
     "name": "stdout",
     "output_type": "stream",
     "text": [
      "Epoch 1150/5000 - Cls Loss: 1.9706, Gen Loss: 1.9684\n"
     ]
    },
    {
     "name": "stderr",
     "output_type": "stream",
     "text": [
      " 24%|██▍       | 1201/5000 [03:02<09:31,  6.65it/s]"
     ]
    },
    {
     "name": "stdout",
     "output_type": "stream",
     "text": [
      "Epoch 1200/5000 - Cls Loss: 1.9249, Gen Loss: 1.9230\n",
      "Валидация: accuracy=0.0000\n"
     ]
    },
    {
     "name": "stderr",
     "output_type": "stream",
     "text": [
      " 25%|██▌       | 1251/5000 [03:09<09:26,  6.61it/s]"
     ]
    },
    {
     "name": "stdout",
     "output_type": "stream",
     "text": [
      "Epoch 1250/5000 - Cls Loss: 1.8968, Gen Loss: 1.8948\n"
     ]
    },
    {
     "name": "stderr",
     "output_type": "stream",
     "text": [
      " 26%|██▌       | 1284/5000 [03:14<09:24,  6.59it/s]\n"
     ]
    },
    {
     "ename": "KeyboardInterrupt",
     "evalue": "",
     "output_type": "error",
     "traceback": [
      "\u001b[1;31m---------------------------------------------------------------------------\u001b[0m",
      "\u001b[1;31mKeyboardInterrupt\u001b[0m                         Traceback (most recent call last)",
      "Cell \u001b[1;32mIn[36], line 169\u001b[0m\n\u001b[0;32m    166\u001b[0m y_mix \u001b[38;5;241m=\u001b[39m (y_onehot \u001b[38;5;241m*\u001b[39m lambdas\u001b[38;5;241m.\u001b[39munsqueeze(\u001b[38;5;241m-\u001b[39m\u001b[38;5;241m1\u001b[39m))\u001b[38;5;241m.\u001b[39msum(dim\u001b[38;5;241m=\u001b[39m\u001b[38;5;241m1\u001b[39m)  \u001b[38;5;66;03m# (B,C)\u001b[39;00m\n\u001b[0;32m    168\u001b[0m \u001b[38;5;66;03m# обучение\u001b[39;00m\n\u001b[1;32m--> 169\u001b[0m loss_cls, loss_gen \u001b[38;5;241m=\u001b[39m \u001b[43madmix\u001b[49m\u001b[38;5;241;43m.\u001b[39;49m\u001b[43mtrain_batch\u001b[49m\u001b[43m(\u001b[49m\u001b[43mx_set\u001b[49m\u001b[43m,\u001b[49m\u001b[43m \u001b[49m\u001b[43my_set\u001b[49m\u001b[43m,\u001b[49m\u001b[43m \u001b[49m\u001b[43mlambdas\u001b[49m\u001b[43m,\u001b[49m\u001b[43m \u001b[49m\u001b[43my_mix\u001b[49m\u001b[43m)\u001b[49m\n\u001b[0;32m    170\u001b[0m total_cls_loss \u001b[38;5;241m+\u001b[39m\u001b[38;5;241m=\u001b[39m loss_cls\n\u001b[0;32m    171\u001b[0m total_gen_loss \u001b[38;5;241m+\u001b[39m\u001b[38;5;241m=\u001b[39m loss_gen\n",
      "Cell \u001b[1;32mIn[36], line 108\u001b[0m, in \u001b[0;36mAdAutoMixup.train_batch\u001b[1;34m(self, x_set, y_set, lambdas, y_mix)\u001b[0m\n\u001b[0;32m    105\u001b[0m \u001b[38;5;28;01mfor\u001b[39;00m p \u001b[38;5;129;01min\u001b[39;00m \u001b[38;5;28mself\u001b[39m\u001b[38;5;241m.\u001b[39mmodel\u001b[38;5;241m.\u001b[39mparameters():\n\u001b[0;32m    106\u001b[0m     p\u001b[38;5;241m.\u001b[39mrequires_grad \u001b[38;5;241m=\u001b[39m \u001b[38;5;28;01mTrue\u001b[39;00m\n\u001b[1;32m--> 108\u001b[0m \u001b[38;5;28;01mreturn\u001b[39;00m \u001b[43mloss_cls\u001b[49m\u001b[38;5;241;43m.\u001b[39;49m\u001b[43mitem\u001b[49m\u001b[43m(\u001b[49m\u001b[43m)\u001b[49m, loss_gen\u001b[38;5;241m.\u001b[39mitem()\n",
      "\u001b[1;31mKeyboardInterrupt\u001b[0m: "
     ]
    }
   ],
   "source": [
    "import time\n",
    "import torch\n",
    "import torch.nn as nn\n",
    "import torch.optim as optim\n",
    "import torch.nn.functional as F\n",
    "from sklearn.metrics import accuracy_score\n",
    "import numpy as np\n",
    "\n",
    "# Устройство (GPU или CPU)\n",
    "device = torch.device(\"cuda\" if torch.cuda.is_available() else \"cpu\")\n",
    "print(f\"Using device: {device}\")\n",
    "\n",
    "# Гиперпараметры\n",
    "embedding_dim = 4096\n",
    "learning_rate = 0.0001\n",
    "batch_size = 64\n",
    "epochs = 5000\n",
    "num_mix = 2  # число примеров в микс\n",
    "\n",
    "# Генератор для AdAutoMixup\n",
    "class AttentionGenerator(nn.Module):\n",
    "    def __init__(self, embedding_dim, num_heads=4):\n",
    "        super().__init__()\n",
    "        d_k = embedding_dim // num_heads\n",
    "        self.num_heads = num_heads\n",
    "        self.q_lin = nn.Linear(embedding_dim + 1, embedding_dim)\n",
    "        self.k_lin = nn.Linear(embedding_dim + 1, embedding_dim)\n",
    "        self.v_lin = nn.Linear(embedding_dim + 1, embedding_dim)\n",
    "        self.out_lin = nn.Linear(embedding_dim, embedding_dim)\n",
    "\n",
    "    def forward(self, x_set, lambdas):\n",
    "        B, N, D = x_set.shape\n",
    "        lam_map = lambdas.unsqueeze(-1)  # (B,N,1)\n",
    "        x_emb = torch.cat([x_set, lam_map], dim=-1)  # (B,N,D+1)\n",
    "        Q = self.q_lin(x_emb).view(B, N, self.num_heads, D//self.num_heads)\n",
    "        K = self.k_lin(x_emb).view(B, N, self.num_heads, D//self.num_heads)\n",
    "        V = self.v_lin(x_emb).view(B, N, self.num_heads, D//self.num_heads)\n",
    "        scores = torch.einsum('bnhd,bmhd->bhnm', Q, K) / ((D//self.num_heads)**0.5)\n",
    "        attn = F.softmax(scores, dim=-1)\n",
    "        mix = torch.einsum('bhnm,bmhd->bnhd', attn, V).contiguous().view(B, N, D)\n",
    "        mix = self.out_lin(mix)\n",
    "        return (mix * lambdas.unsqueeze(-1)).sum(dim=1)  # (B,D)\n",
    "\n",
    "# Классификатор\n",
    "class CustomLogisticRegression(nn.Module):\n",
    "    def __init__(self, num_classes):\n",
    "        super().__init__()\n",
    "        self.linear = nn.Linear(embedding_dim, num_classes)\n",
    "        nn.init.xavier_normal_(self.linear.weight)\n",
    "        nn.init.zeros_(self.linear.bias)\n",
    "    def forward(self, x):\n",
    "        return self.linear(x)\n",
    "\n",
    "# Обёртка AdAutoMixup\n",
    "class AdAutoMixup:\n",
    "    def __init__(self, embedding_dim, num_classes, alpha=0.5, beta=0.3, lr_cls=1e-2, lr_gen=1e-3, ema_m=0.999):\n",
    "        self.model = CustomLogisticRegression(num_classes).to(device)\n",
    "        self.generator = AttentionGenerator(embedding_dim).to(device)\n",
    "        self.model_ema = CustomLogisticRegression(num_classes).to(device)\n",
    "        self.model_ema.load_state_dict(self.model.state_dict())\n",
    "        self.ema_m = ema_m\n",
    "        self.opt_cls = optim.AdamW(self.model.parameters(), lr=lr_cls)\n",
    "        self.opt_gen = optim.Adam(self.generator.parameters(), lr=lr_gen)\n",
    "        self.criterion = nn.CrossEntropyLoss(reduction='none')\n",
    "\n",
    "    def update_ema(self):\n",
    "        for p, p_ema in zip(self.model.parameters(), self.model_ema.parameters()):\n",
    "            p_ema.data.mul_(self.ema_m).add_(p.data, alpha=1-self.ema_m)\n",
    "\n",
    "    def soft_ce(self, logits, y_mix):\n",
    "        \"\"\"\n",
    "        logits: (B, C), y_mix: (B, C) — распределение soft-меток\n",
    "        возвращает средний soft-CE\n",
    "        \"\"\"\n",
    "        logp = F.log_softmax(logits, dim=1)    # (B, C)\n",
    "        loss = -(y_mix * logp).sum(dim=1).mean()\n",
    "        return loss\n",
    "\n",
    "    def train_batch(self, x_set, y_set, lambdas, y_mix):\n",
    "        # ================= 1) Обновление классификатора =================\n",
    "        self.opt_cls.zero_grad()\n",
    "\n",
    "        x_mix = self.generator(x_set, lambdas)     # (B, D)\n",
    "        logits = self.model(x_mix)                 # (B, C)\n",
    "        loss_cls = self.soft_ce(logits, y_mix)     # soft-CE\n",
    "        loss_cls.backward()\n",
    "        self.opt_cls.step()\n",
    "        self.update_ema()\n",
    "\n",
    "        # ================= 2) Обновление генератора (adversarial) ======\n",
    "        # Замораживаем классификатор\n",
    "        for p in self.model.parameters():\n",
    "            p.requires_grad = False\n",
    "\n",
    "        self.opt_gen.zero_grad()\n",
    "        x_mix = self.generator(x_set, lambdas)\n",
    "        logits = self.model(x_mix)\n",
    "        # тот же soft-CE, но градиент в обратную сторону\n",
    "        loss_gen = self.soft_ce(logits, y_mix)\n",
    "        # здесь градиент передаётся с минусом, но item() остаётся положительным\n",
    "        loss_gen.backward(gradient=torch.tensor(-1.0, device=device))\n",
    "        self.opt_gen.step()\n",
    "\n",
    "        # Размораживаем классификатор для следующих batch’ей\n",
    "        for p in self.model.parameters():\n",
    "            p.requires_grad = True\n",
    "\n",
    "        return loss_cls.item(), loss_gen.item()\n",
    "\n",
    "# Основной цикл обучения\n",
    "admix = AdAutoMixup(\n",
    "    embedding_dim=embedding_dim,\n",
    "    num_classes=0,\n",
    "    lr_cls=learning_rate,\n",
    "    lr_gen=learning_rate * 1e-4,  # генератор учим медленнее\n",
    "    ema_m=0.999\n",
    ")\n",
    "class_to_idx = {}\n",
    "\n",
    "for part_idx, part in enumerate(train_val_parts, start=1):\n",
    "    print(f\"\\n=== Этап {part_idx} ===\")\n",
    "    # обновление класса\n",
    "    for cls in np.unique(part['y_train']):\n",
    "        if cls not in class_to_idx:\n",
    "            class_to_idx[cls] = len(class_to_idx)\n",
    "    num_classes = len(class_to_idx)\n",
    "    # расширение классификатора\n",
    "    if admix.model.linear.out_features != num_classes:\n",
    "        admix.model = CustomLogisticRegression(num_classes).to(device)\n",
    "        admix.model_ema = CustomLogisticRegression(num_classes).to(device)\n",
    "        admix.model_ema.load_state_dict(admix.model.state_dict())\n",
    "        admix.opt_cls = optim.AdamW(admix.model.parameters(), lr=learning_rate)\n",
    "\n",
    "    # данные на устройство\n",
    "    if isinstance(part['X_train'], np.ndarray):\n",
    "        X_train = torch.from_numpy(part['X_train']).float().to(device)\n",
    "    else:\n",
    "        X_train = part['X_train'].clone().detach().float().to(device)\n",
    "    y_train = torch.tensor([class_to_idx[c] for c in part['y_train']], dtype=torch.long, device=device)\n",
    "    if isinstance(part['X_val'], np.ndarray):\n",
    "        X_val = torch.from_numpy(part['X_val']).float().to(device)\n",
    "    else:\n",
    "        X_val = part['X_val'].clone().detach().float().to(device)\n",
    "    y_val = torch.tensor([class_to_idx[c] for c in part['y_val']], dtype=torch.long, device=device)\n",
    "\n",
    "    for ep in tqdm(range(1, epochs + 1)):\n",
    "        perm = torch.randperm(X_train.size(0), device=device)\n",
    "        total_cls_loss = 0.0\n",
    "        total_gen_loss = 0.0\n",
    "        count = 0\n",
    "\n",
    "        for start in range(0, X_train.size(0), batch_size):\n",
    "            end = min(start + batch_size, X_train.size(0))\n",
    "            base_idx = perm[start:end]\n",
    "            if len(base_idx) < num_mix:\n",
    "                continue  # пропускаем, если мало примеров для mix\n",
    "\n",
    "            # выборка микс-наборов\n",
    "            mix_idx = torch.randint(0, X_train.size(0), (len(base_idx), num_mix), device=device)\n",
    "            x_set = X_train[mix_idx]  # (B, N, D)\n",
    "            y_set = y_train[mix_idx]  # (B, N)\n",
    "\n",
    "            # λ и микс метки\n",
    "            lambdas = torch.softmax(torch.randn(len(base_idx), num_mix, device=device), dim=1)\n",
    "            y_onehot = F.one_hot(y_set, num_classes=num_classes).float()  # (B,N,C)\n",
    "            y_mix = (y_onehot * lambdas.unsqueeze(-1)).sum(dim=1)  # (B,C)\n",
    "\n",
    "            # обучение\n",
    "            loss_cls, loss_gen = admix.train_batch(x_set, y_set, lambdas, y_mix)\n",
    "            total_cls_loss += loss_cls\n",
    "            total_gen_loss += loss_gen\n",
    "            count += 1\n",
    "        if ep % 50 == 0:\n",
    "            print(f\"Epoch {ep}/{epochs} - Cls Loss: {total_cls_loss/count:.4f}, Gen Loss: {total_gen_loss/count:.4f}\")\n",
    "        if ep % 100 == 0:\n",
    "            # валидация\n",
    "            admix.model.eval()\n",
    "            with torch.no_grad():\n",
    "                preds = admix.model(X_val).argmax(dim=1).cpu()\n",
    "                acc = accuracy_score(y_val.cpu(), preds)\n",
    "            print(f\"Валидация: accuracy={acc:.4f}\")\n",
    "\n",
    "    # валидация\n",
    "    admix.model.eval()\n",
    "    with torch.no_grad():\n",
    "        preds = admix.model(X_val).argmax(dim=1).cpu()\n",
    "        acc = accuracy_score(y_val.cpu(), preds)\n",
    "    print(f\"Валидация: accuracy={acc:.4f}\")\n"
   ]
  },
  {
   "cell_type": "code",
   "execution_count": 53,
   "metadata": {},
   "outputs": [
    {
     "name": "stdout",
     "output_type": "stream",
     "text": [
      "Using device: cuda\n"
     ]
    },
    {
     "name": "stderr",
     "output_type": "stream",
     "text": [
      "C:\\Users\\pnkdl\\AppData\\Local\\Temp\\ipykernel_30716\\836060114.py:129: UserWarning: To copy construct from a tensor, it is recommended to use sourceTensor.clone().detach() or sourceTensor.clone().detach().requires_grad_(True), rather than torch.tensor(sourceTensor).\n",
      "  X_train = torch.tensor(part['X_train'], dtype=torch.float32, device=device)\n",
      "C:\\Users\\pnkdl\\AppData\\Local\\Temp\\ipykernel_30716\\836060114.py:131: UserWarning: To copy construct from a tensor, it is recommended to use sourceTensor.clone().detach() or sourceTensor.clone().detach().requires_grad_(True), rather than torch.tensor(sourceTensor).\n",
      "  X_val = torch.tensor(part['X_val'], dtype=torch.float32, device=device)\n"
     ]
    },
    {
     "ename": "RuntimeError",
     "evalue": "The size of tensor a (192) must match the size of tensor b (3) at non-singleton dimension 1",
     "output_type": "error",
     "traceback": [
      "\u001b[1;31m---------------------------------------------------------------------------\u001b[0m",
      "\u001b[1;31mRuntimeError\u001b[0m                              Traceback (most recent call last)",
      "Cell \u001b[1;32mIn[53], line 145\u001b[0m\n\u001b[0;32m    143\u001b[0m         y_onehot \u001b[38;5;241m=\u001b[39m F\u001b[38;5;241m.\u001b[39mone_hot(y_set, num_classes)\u001b[38;5;241m.\u001b[39mfloat()\n\u001b[0;32m    144\u001b[0m         y_mix \u001b[38;5;241m=\u001b[39m (y_onehot \u001b[38;5;241m*\u001b[39m lambdas\u001b[38;5;241m.\u001b[39munsqueeze(\u001b[38;5;241m-\u001b[39m\u001b[38;5;241m1\u001b[39m))\u001b[38;5;241m.\u001b[39msum(\u001b[38;5;241m1\u001b[39m)\n\u001b[1;32m--> 145\u001b[0m         \u001b[43madmix\u001b[49m\u001b[38;5;241;43m.\u001b[39;49m\u001b[43mtrain_batch\u001b[49m\u001b[43m(\u001b[49m\u001b[43mx_set\u001b[49m\u001b[43m,\u001b[49m\u001b[43m \u001b[49m\u001b[43my_set\u001b[49m\u001b[43m,\u001b[49m\u001b[43m \u001b[49m\u001b[43mlambdas\u001b[49m\u001b[43m,\u001b[49m\u001b[43m \u001b[49m\u001b[43my_mix\u001b[49m\u001b[43m)\u001b[49m\n\u001b[0;32m    147\u001b[0m \u001b[38;5;66;03m# validation\u001b[39;00m\n\u001b[0;32m    148\u001b[0m admix\u001b[38;5;241m.\u001b[39mmodel\u001b[38;5;241m.\u001b[39meval()\n",
      "Cell \u001b[1;32mIn[53], line 92\u001b[0m, in \u001b[0;36mAdAutoMixup.train_batch\u001b[1;34m(self, x_set, y_set, lambdas, y_mix)\u001b[0m\n\u001b[0;32m     90\u001b[0m loss_adv \u001b[38;5;241m=\u001b[39m \u001b[38;5;28mself\u001b[39m\u001b[38;5;241m.\u001b[39msoft_ce(logits_mix, y_mix)\u001b[38;5;241m.\u001b[39mmean()\n\u001b[0;32m     91\u001b[0m \u001b[38;5;66;03m# original mix CE\u001b[39;00m\n\u001b[1;32m---> 92\u001b[0m x_linear \u001b[38;5;241m=\u001b[39m (\u001b[43mx_flat\u001b[49m\u001b[43m \u001b[49m\u001b[38;5;241;43m*\u001b[39;49m\u001b[43m \u001b[49m\u001b[43mlambdas\u001b[49m\u001b[38;5;241;43m.\u001b[39;49m\u001b[43mview\u001b[49m\u001b[43m(\u001b[49m\u001b[43mB\u001b[49m\u001b[43m,\u001b[49m\u001b[43m \u001b[49m\u001b[43mN\u001b[49m\u001b[43m,\u001b[49m\u001b[43m \u001b[49m\u001b[38;5;241;43m1\u001b[39;49m\u001b[43m)\u001b[49m\u001b[38;5;241;43m.\u001b[39;49m\u001b[43mexpand\u001b[49m\u001b[43m(\u001b[49m\u001b[38;5;241;43m-\u001b[39;49m\u001b[38;5;241;43m1\u001b[39;49m\u001b[43m,\u001b[49m\u001b[43m \u001b[49m\u001b[38;5;241;43m-\u001b[39;49m\u001b[38;5;241;43m1\u001b[39;49m\u001b[43m,\u001b[49m\u001b[43m \u001b[49m\u001b[43mD\u001b[49m\u001b[43m)\u001b[49m)\u001b[38;5;241m.\u001b[39msum(\u001b[38;5;241m1\u001b[39m)\n\u001b[0;32m     93\u001b[0m logits_lin \u001b[38;5;241m=\u001b[39m \u001b[38;5;28mself\u001b[39m\u001b[38;5;241m.\u001b[39mmodel(x_linear)\n\u001b[0;32m     94\u001b[0m loss_lin \u001b[38;5;241m=\u001b[39m F\u001b[38;5;241m.\u001b[39mcross_entropy(logits_lin, y_mix\u001b[38;5;241m.\u001b[39margmax(\u001b[38;5;241m1\u001b[39m))\n",
      "\u001b[1;31mRuntimeError\u001b[0m: The size of tensor a (192) must match the size of tensor b (3) at non-singleton dimension 1"
     ]
    }
   ],
   "source": [
    "import time\n",
    "import torch\n",
    "import torch.nn as nn\n",
    "import torch.optim as optim\n",
    "import torch.nn.functional as F\n",
    "from sklearn.metrics import accuracy_score\n",
    "import numpy as np\n",
    "\n",
    "# Device\n",
    "device = torch.device(\"cuda\" if torch.cuda.is_available() else \"cpu\")\n",
    "print(f\"Using device: {device}\")\n",
    "\n",
    "# Hyperparameters\n",
    "embedding_dim = 4096\n",
    "learning_rate = 0.001\n",
    "batch_size = 64\n",
    "epochs = 5000\n",
    "num_mix = 3   # N samples to mix\n",
    "alpha = 0.5   # weight for adversarial mix CE\n",
    "beta = 0.3    # weight for EMA regularization\n",
    "ema_m = 0.999\n",
    "\n",
    "# AdAutoMixup Components\n",
    "class AttentionGenerator(nn.Module):\n",
    "    def __init__(self, embedding_dim, num_heads=4):\n",
    "        super().__init__()\n",
    "        d_k = embedding_dim // num_heads\n",
    "        self.num_heads = num_heads\n",
    "        self.q_lin = nn.Linear(embedding_dim + 1, embedding_dim)\n",
    "        self.k_lin = nn.Linear(embedding_dim + 1, embedding_dim)\n",
    "        self.v_lin = nn.Linear(embedding_dim + 1, embedding_dim)\n",
    "        self.out_lin = nn.Linear(embedding_dim, embedding_dim)\n",
    "\n",
    "    def forward(self, x_set, lambdas):\n",
    "        B, N, D = x_set.shape\n",
    "        lam_map = lambdas.unsqueeze(-1)  # (B,N,1)\n",
    "        x_emb = torch.cat([x_set, lam_map], dim=-1)\n",
    "        Q = self.q_lin(x_emb).view(B, N, self.num_heads, D//self.num_heads)\n",
    "        K = self.k_lin(x_emb).view(B, N, self.num_heads, D//self.num_heads)\n",
    "        V = self.v_lin(x_emb).view(B, N, self.num_heads, D//self.num_heads)\n",
    "        scores = torch.einsum('bnhd,bmhd->bhnm', Q, K) / ((D//self.num_heads)**0.5)\n",
    "        attn = F.softmax(scores, dim=-1)\n",
    "        mix = torch.einsum('bhnm,bmhd->bnhd', attn, V).contiguous().view(B, N, D)\n",
    "        mix = self.out_lin(mix)\n",
    "        return (mix * lambdas.unsqueeze(-1)).sum(dim=1)\n",
    "\n",
    "class CustomLogisticRegression(nn.Module):\n",
    "    def __init__(self, num_classes):\n",
    "        super().__init__()\n",
    "        self.linear = nn.Linear(embedding_dim, num_classes)\n",
    "        nn.init.xavier_normal_(self.linear.weight)\n",
    "        nn.init.zeros_(self.linear.bias)\n",
    "    def forward(self, x):\n",
    "        return self.linear(x)\n",
    "\n",
    "class AdAutoMixup:\n",
    "    def __init__(self, embedding_dim, alpha, beta, ema_m, lr_cls, lr_gen):\n",
    "        self.alpha = alpha\n",
    "        self.beta = beta\n",
    "        self.ema_m = ema_m\n",
    "        self.generator = AttentionGenerator(embedding_dim).to(device)\n",
    "        self.model = None\n",
    "        self.model_ema = None\n",
    "        self.opt_gen = optim.Adam(self.generator.parameters(), lr=lr_gen)\n",
    "        self.opt_cls = None\n",
    "\n",
    "    def init_models(self, num_classes):\n",
    "        self.model = CustomLogisticRegression(num_classes).to(device)\n",
    "        self.model_ema = CustomLogisticRegression(num_classes).to(device)\n",
    "        self.model_ema.load_state_dict(self.model.state_dict())\n",
    "        self.opt_cls = optim.AdamW(self.model.parameters(), lr=learning_rate)\n",
    "\n",
    "    def update_ema(self):\n",
    "        for p, p_ema in zip(self.model.parameters(), self.model_ema.parameters()):\n",
    "            p_ema.data.mul_((self.ema_m)).add_(p.data, alpha=1-self.ema_m)\n",
    "\n",
    "    def soft_ce(self, logits, targets):\n",
    "        logp = F.log_softmax(logits, dim=1)\n",
    "        return -(targets * logp).sum(dim=1)\n",
    "\n",
    "    def train_batch(self, x_set, y_set, lambdas, y_mix):\n",
    "        B, N, D = x_set.shape\n",
    "        x_flat = x_set.view(-1, D)\n",
    "        y_flat = y_set.view(-1)\n",
    "\n",
    "        # classifier update\n",
    "        self.opt_cls.zero_grad()\n",
    "        x_mix = self.generator(x_set, lambdas)\n",
    "        logits_mix = self.model(x_mix)\n",
    "        loss_adv = self.soft_ce(logits_mix, y_mix).mean()\n",
    "        # original mix CE\n",
    "        x_linear = (x_flat * lambdas.view(B, N, 1).expand(-1, -1, D)).sum(1)\n",
    "        logits_lin = self.model(x_linear)\n",
    "        loss_lin = F.cross_entropy(logits_lin, y_mix.argmax(1))\n",
    "        loss_cls = loss_adv * self.alpha + loss_lin * (1-self.alpha)\n",
    "        loss_cls.backward()\n",
    "        self.opt_cls.step()\n",
    "        self.update_ema()   \n",
    "\n",
    "        # generator update (adversarial)\n",
    "        for p in self.model.parameters(): p.requires_grad = False\n",
    "        self.opt_gen.zero_grad()\n",
    "        x_mix2 = self.generator(x_set, lambdas)\n",
    "        logits2 = self.model(x_mix2)\n",
    "        loss2 = self.soft_ce(logits2, y_mix).mean()\n",
    "        # EMA regularization\n",
    "        with torch.no_grad(): ema_logits = self.model_ema(x_mix2)\n",
    "        loss_ema = self.soft_ce(ema_logits, y_mix).mean()\n",
    "        cos_sim = F.cosine_similarity(self.model_ema(x_mix2), self.model_ema(x_flat.view(B, N, D).mean(1))).mean()\n",
    "        loss_gen = loss2 - self.beta * loss_ema + (1-self.beta) * cos_sim\n",
    "        (-loss_gen).backward()\n",
    "        self.opt_gen.step()\n",
    "        for p in self.model.parameters(): p.requires_grad = True\n",
    "\n",
    "        return loss_cls.item(), loss_gen.item()\n",
    "\n",
    "# Training loop example usage\n",
    "admix = AdAutoMixup(embedding_dim, alpha, beta, ema_m, lr_cls=learning_rate, lr_gen=learning_rate*1e-4)\n",
    "\n",
    "# assume train_val_parts is list of dicts with 'X_train','y_train','X_val','y_val'\n",
    "class_to_idx = {}\n",
    "for part in train_val_parts:\n",
    "    for c in np.unique(part['y_train']):\n",
    "        if c not in class_to_idx: class_to_idx[c] = len(class_to_idx)\n",
    "    num_classes = len(class_to_idx)\n",
    "    if admix.model is None or admix.model.linear.out_features != num_classes:\n",
    "        admix.init_models(num_classes)\n",
    "\n",
    "    X_train = torch.tensor(part['X_train'], dtype=torch.float32, device=device)\n",
    "    y_train = torch.tensor([class_to_idx[c] for c in part['y_train']], device=device)\n",
    "    X_val = torch.tensor(part['X_val'], dtype=torch.float32, device=device)\n",
    "    y_val = torch.tensor([class_to_idx[c] for c in part['y_val']], device=device)\n",
    "\n",
    "    for ep in range(epochs):\n",
    "        perm = torch.randperm(len(y_train), device=device)\n",
    "        for i in range(0, len(perm), batch_size):\n",
    "            idx = perm[i:i+batch_size]\n",
    "            if len(idx) < num_mix: continue\n",
    "            mix_idx = torch.randint(0, len(y_train), (len(idx), num_mix), device=device)\n",
    "            x_set = X_train[mix_idx]\n",
    "            y_set = y_train[mix_idx]\n",
    "            lambdas = torch.softmax(torch.randn(len(idx), num_mix, device=device), dim=1)\n",
    "            y_onehot = F.one_hot(y_set, num_classes).float()\n",
    "            y_mix = (y_onehot * lambdas.unsqueeze(-1)).sum(1)\n",
    "            admix.train_batch(x_set, y_set, lambdas, y_mix)\n",
    "\n",
    "    # validation\n",
    "    admix.model.eval()\n",
    "    with torch.no_grad():\n",
    "        preds = admix.model(X_val).argmax(1).cpu()\n",
    "        print(\"Val acc:\", accuracy_score(y_val.cpu(), preds))\n"
   ]
  },
  {
   "cell_type": "code",
   "execution_count": null,
   "metadata": {},
   "outputs": [],
   "source": []
  }
 ],
 "metadata": {
  "kernelspec": {
   "display_name": "venv",
   "language": "python",
   "name": "python3"
  },
  "language_info": {
   "codemirror_mode": {
    "name": "ipython",
    "version": 3
   },
   "file_extension": ".py",
   "mimetype": "text/x-python",
   "name": "python",
   "nbconvert_exporter": "python",
   "pygments_lexer": "ipython3",
   "version": "3.10.0"
  }
 },
 "nbformat": 4,
 "nbformat_minor": 2
}
